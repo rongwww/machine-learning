{
 "cells": [
  {
   "cell_type": "code",
   "execution_count": null,
   "metadata": {
    "collapsed": true
   },
   "outputs": [],
   "source": [
    "import os\n",
    "import wget\n",
    "import pandas as pd\n",
    "import numpy as np\n",
    "import seaborn as sns\n",
    "import matplotlib.pyplot as plt\n",
    "from sklearn.experimental import enable_iterative_imputer  # unused, but needed\n",
    "from sklearn.impute import SimpleImputer\n",
    "from sklearn.linear_model import LinearRegression\n",
    "from sklearn.linear_model import Ridge\n",
    "from sklearn.linear_model import Lasso\n",
    "from sklearn.model_selection import cross_validate\n",
    "from sklearn.decomposition import PCA\n",
    "import sklearn.metrics as metrics\n",
    "from sklearn.metrics import roc_curve, auc, roc_auc_score\n",
    "import xgboost as xgb\n",
    "from xgboost import XGBClassifer\n"
   ]
  },
  {
   "cell_type": "code",
   "execution_count": null,
   "outputs": [],
   "source": [
    "#download data\n",
    "url = 'https://archive.ics.uci.edu/ml/machine-learning-databases/communities/communities.data'\n",
    "wget.download(url, 'communities_crimes.csv')\n",
    "\n",
    "#save as data frame\n",
    "data_communities_crimes = pd.read_csv('communities_crimes.csv', header = None)\n",
    "data_communities_crimes = data_communities_crimes.replace('?' , np.nan)\n",
    "\n",
    "#train - test split\n",
    "train_communities_crimes = data_communities_crimes.iloc[: 1495, 5 : ]\n",
    "test_communities_crimes = data_communities_crimes.iloc[1495 : , 5 : ]"
   ],
   "metadata": {
    "collapsed": false,
    "pycharm": {
     "name": "#%%\n"
    }
   }
  },
  {
   "cell_type": "code",
   "execution_count": null,
   "outputs": [],
   "source": [
    "#data imputation function\n",
    "def impute_data(data, class_col):\n",
    "\n",
    "    data = data.reset_index(drop = True)\n",
    "    imputer = SimpleImputer()\n",
    "    data_imputed = imputer.fit_transform(data.loc[:,data.columns.difference([class_col])])\n",
    "    imputed_df = pd.DataFrame(data.loc[:,class_col]).join(pd.DataFrame(data_imputed, columns = data.columns.difference([class_col])))\n",
    "\n",
    "    return imputed_df\n",
    "\n",
    "#imputing train, test data\n",
    "data_crime_label = data_communities_crimes.columns[-1]\n",
    "\n",
    "data_communities_crimes = data_communities_crimes.iloc[ : , 5 : ]\n",
    "data_communities_crimes_imputed = impute_data(data_communities_crimes, data_crime_label)\n",
    "\n",
    "train_communities_crimes_imputed = impute_data(train_communities_crimes, data_crime_label)\n",
    "test_communities_crimes_imputed = impute_data(test_communities_crimes, data_crime_label)"
   ],
   "metadata": {
    "collapsed": false,
    "pycharm": {
     "name": "#%%\n"
    }
   }
  },
  {
   "cell_type": "code",
   "execution_count": null,
   "outputs": [],
   "source": [
    "#correlation matrix of features\n",
    "plt.figure(figsize=(15,15))\n",
    "plt.matshow(data_communities_crimes.corr())\n",
    "plt.show()\n",
    "\n",
    "\n",
    "plot_corr_mat = sns.heatmap(data_communities_crimes.corr(),\n",
    "                                                    vmin=-1,\n",
    "                                                    cmap='PiYG',\n",
    "                                                    annot=False);"
   ],
   "metadata": {
    "collapsed": false,
    "pycharm": {
     "name": "#%%\n"
    }
   }
  },
  {
   "cell_type": "code",
   "execution_count": null,
   "outputs": [],
   "source": [
    "#calculate CV (= std/mean) of each feature\n",
    "std_crime = pd.DataFrame(data_communities_crimes.std())\n",
    "mean_crime = pd.DataFrame(data_communities_crimes.mean())\n",
    "cv_crime = std_crime / mean_crime\n",
    "cv_crime = cv_crime.sort_values(by = 0, ascending = False)\n",
    "\n",
    "#pick highest CV\n",
    "num_crime = int(np.floor(np.sqrt(128)))\n",
    "features_crime = cv_crime.index[:num_crime]\n",
    "cv_highest_crime = pd.DataFrame(data_communities_crimes[data_crime_label]).join(train_communities_crimes_imputed.loc[ : , features_crime])"
   ],
   "metadata": {
    "collapsed": false,
    "pycharm": {
     "name": "#%%\n"
    }
   }
  },
  {
   "cell_type": "code",
   "execution_count": null,
   "outputs": [],
   "source": [
    "#scatterplot\n",
    "def draw_scatterplot(dataframe, name) :\n",
    "    num_plots = (len(dataframe.columns) - 1)\n",
    "    for i in range(1 , len(dataframe.columns)):\n",
    "        ax = fig.add_subplot(np.ceil(num_plots/3),3,i)\n",
    "        scatterplot = sns.scatterplot(data = dataframe, x = dataframe.columns[i], y = dataframe.columns[0],\n",
    "                              hue = dataframe.columns[0])\n",
    "\n",
    "        scatterplot.legend_.remove()\n",
    "    handles, labels = ax.get_legend_handles_labels()\n",
    "    #fig.legend(title = \"class\", handles = handles, labels = labels,\n",
    "    #           bbox_to_anchor = [.015, .5], loc = 'center left')\n",
    "    fig.savefig(name)\n",
    "\n",
    "fig = plt.figure(figsize = (15,20))\n",
    "fig.subplots_adjust(hspace = .4, wspace = .4)\n",
    "draw_scatterplot(cv_highest_crime, 'plot_scatter_cv_crime.png')"
   ],
   "metadata": {
    "collapsed": false,
    "pycharm": {
     "name": "#%%\n"
    }
   }
  },
  {
   "cell_type": "code",
   "execution_count": null,
   "outputs": [],
   "source": [
    "#linear regression\n",
    "train_crime_x = train_communities_crimes_imputed.iloc[:, 1:]\n",
    "train_crime_y = train_communities_crimes_imputed.iloc[:, 0]\n",
    "test_crime_x = test_communities_crimes_imputed.iloc[:, 1:]\n",
    "test_crime_y = test_communities_crimes_imputed.iloc[:, 0]\n",
    "\n",
    "lr = LinearRegression()\n",
    "lr.fit(train_crime_x, train_crime_y)\n",
    "test_error_crime = 1 - lr.score(test_crime_x, test_crime_y)"
   ],
   "metadata": {
    "collapsed": false,
    "pycharm": {
     "name": "#%%\n"
    }
   }
  },
  {
   "cell_type": "code",
   "execution_count": null,
   "outputs": [],
   "source": [
    "#Ridge regression\n",
    "alpha = [10**i for i in range(-5,3)]\n",
    "best_alpha_ridge = None\n",
    "best_score_ridge = float('-inf')\n",
    "\n",
    "for a in alpha:\n",
    "    ridge = Ridge(alpha = a)\n",
    "    cv_results = cross_validate(ridge, train_crime_x, train_crime_y, cv = 10)\n",
    "    score = np.mean(cv_results['test_score'])\n",
    "    if(score > best_score_ridge) :\n",
    "        best_score_ridge = score\n",
    "        best_alpha_ridge = a\n",
    "\n",
    "ridge_model = Ridge(alpha = best_alpha_ridge)\n",
    "ridge_model.fit(train_crime_x, train_crime_y)\n",
    "test_error_crime_ridge = 1 - ridge_model.score(test_crime_x, test_crime_y)"
   ],
   "metadata": {
    "collapsed": false,
    "pycharm": {
     "name": "#%%\n"
    }
   }
  },
  {
   "cell_type": "code",
   "execution_count": null,
   "outputs": [],
   "source": [
    "#Lasso\n",
    "best_alpha_lasso = None\n",
    "best_score_lasso = float('-inf')\n",
    "\n",
    "for a in alpha:\n",
    "    lasso = Lasso(alpha = a)\n",
    "    cv_results = cross_validate(lasso, train_crime_x, train_crime_y, cv = 10)\n",
    "    score = np.mean(cv_results['test_score'])\n",
    "    if(score > best_score_lasso):\n",
    "        best_score_lasso = score\n",
    "        best_alpha_lasso = a\n",
    "\n",
    "lasso_model = Lasso(alpha = best_alpha_lasso)\n",
    "lasso_model.fit(train_crime_x, train_crime_y)\n",
    "test_error_crime_lasso = 1 - lasso_model.score(test_crime_x, test_crime_y)\n",
    "lasso_variables = train_crime_x.columns[lasso_model.coef_ == 0]"
   ],
   "metadata": {
    "collapsed": false,
    "pycharm": {
     "name": "#%%\n"
    }
   }
  },
  {
   "cell_type": "code",
   "execution_count": null,
   "outputs": [],
   "source": [
    "#PCR\n",
    "best_score_pcr = float('-inf')\n",
    "best_m_pcr = None;\n",
    "for i in range(1, len(train_crime_x.columns)):\n",
    "    pca = PCA()\n",
    "    train_crime_x_reduced = pd.DataFrame(pca.fit_transform(train_crime_x))\n",
    "    cv_results = cross_validate(lr, train_crime_x_reduced.iloc[:,:i], train_crime_y, cv = 10)\n",
    "    score = np.mean(cv_results['test_score'])\n",
    "    if(score > best_score_pcr):\n",
    "        best_score_pcr = score\n",
    "        best_m_pcr = i\n",
    "\n",
    "pca = PCA()\n",
    "train_crime_x_reduced = pd.DataFrame(pca.fit_transform(train_crime_x)).iloc[:,:best_m_pcr]\n",
    "lr.fit(train_crime_x_reduced, train_crime_y)\n",
    "test_crime_x_reduced = pd.DataFrame(pca.transform(test_crime_x)).iloc[:,:best_m_pcr]\n",
    "test_error_crime_pcr = 1 - lr.score(test_crime_x_reduced, test_crime_y)"
   ],
   "metadata": {
    "collapsed": false,
    "pycharm": {
     "name": "#%%\n"
    }
   }
  },
  {
   "cell_type": "code",
   "execution_count": null,
   "outputs": [],
   "source": [
    "#xgboost\n",
    "d_train_crime_x = xgb.DMatrix(train_crime_x)\n",
    "d_test_crime_x = xgb.DMatrix(test_crime_x)\n",
    "\n"
   ],
   "metadata": {
    "collapsed": false,
    "pycharm": {
     "name": "#%%\n"
    }
   }
  }
 ],
 "metadata": {
  "kernelspec": {
   "display_name": "Python 3",
   "language": "python",
   "name": "python3"
  },
  "language_info": {
   "codemirror_mode": {
    "name": "ipython",
    "version": 2
   },
   "file_extension": ".py",
   "mimetype": "text/x-python",
   "name": "python",
   "nbconvert_exporter": "python",
   "pygments_lexer": "ipython2",
   "version": "2.7.6"
  }
 },
 "nbformat": 4,
 "nbformat_minor": 0
}