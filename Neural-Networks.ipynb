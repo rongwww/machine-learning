{
 "cells": [
  {
   "cell_type": "code",
   "execution_count": 1,
   "metadata": {},
   "outputs": [
    {
     "name": "stderr",
     "output_type": "stream",
     "text": [
      "Using TensorFlow backend.\n"
     ]
    }
   ],
   "source": [
    "import os\n",
    "import pickle\n",
    "import pandas as pd\n",
    "import numpy as np\n",
    "import random\n",
    "import matplotlib.pyplot as plt\n",
    "from skimage.color import rgb2gray\n",
    "from sklearn.cluster import KMeans\n",
    "import re\n",
    "import unicodedata\n",
    "from sklearn.preprocessing import OneHotEncoder\n",
    "from keras.models import Sequential\n",
    "from keras.layers import LSTM\n",
    "from keras.layers import Dense\n",
    "from keras.layers import Dropout\n",
    "from keras.layers import Conv2D\n",
    "from keras.layers import MaxPooling2D\n",
    "from keras.layers import Flatten\n",
    "from keras.callbacks import ModelCheckpoint"
   ]
  },
  {
   "cell_type": "code",
   "execution_count": null,
   "metadata": {},
   "outputs": [],
   "source": []
  },
  {
   "cell_type": "markdown",
   "metadata": {},
   "source": [
    "# Part 1 _ CNNs for Image Colorization"
   ]
  },
  {
   "cell_type": "code",
   "execution_count": 2,
   "metadata": {},
   "outputs": [],
   "source": [
    "def unpickle(file):\n",
    "    with open(file, 'rb') as fo:\n",
    "        dict = pickle.load(fo, encoding='bytes')\n",
    "    return dict"
   ]
  },
  {
   "cell_type": "code",
   "execution_count": 3,
   "metadata": {},
   "outputs": [],
   "source": [
    "def load_data(path):\n",
    "    home = os.getcwd()\n",
    "    os.chdir(path)\n",
    "    file_names = os.listdir()\n",
    "    data = []\n",
    "    \n",
    "    for f in file_names:\n",
    "        if('batch' in f):\n",
    "            if('meta' in f):\n",
    "                label = unpickle(f)\n",
    "            else:\n",
    "                data.append(unpickle(f))\n",
    "        else:\n",
    "            pass\n",
    "    os.chdir(home)\n",
    "    return data, label\n"
   ]
  },
  {
   "cell_type": "code",
   "execution_count": 4,
   "metadata": {},
   "outputs": [],
   "source": [
    "def save_df(file):\n",
    "    df = pd.DataFrame(file.get(b'data'))\n",
    "    df['label'] = file.get(b'labels')\n",
    "    return df\n"
   ]
  },
  {
   "cell_type": "code",
   "execution_count": 5,
   "metadata": {},
   "outputs": [],
   "source": [
    "def get_class(name):\n",
    "    label_names = unpickle((path + '/batches.meta'))\n",
    "    label_names = list(label_names.get(b'label_names'))    \n",
    "    return label_names.index(name)\n"
   ]
  },
  {
   "cell_type": "code",
   "execution_count": 6,
   "metadata": {},
   "outputs": [],
   "source": [
    "def flatten_data(data):\n",
    "    total_pixels = data.shape[0] * data.shape[1] * data.shape[2]\n",
    "    data_flat = data.reshape(total_pixels, data.shape[3])\n",
    "    return data_flat"
   ]
  },
  {
   "cell_type": "code",
   "execution_count": 7,
   "metadata": {},
   "outputs": [],
   "source": [
    "home = os.getcwd()\n",
    "folder_name = 'cifar-10-batches-py'\n",
    "path = home + '/' + folder_name\n",
    "dataset, label = load_data(path)\n",
    "bird_label = get_class(b'bird') \n",
    "\n",
    "\n",
    "train = pd.DataFrame()\n",
    "for d in dataset:\n",
    "    if(b'test' in d.get(b'batch_label')):\n",
    "        test = save_df(d)\n",
    "    else:\n",
    "        train = train.append(save_df(d))\n",
    "       \n",
    "train = train.loc[train['label'] == bird_label, :]\n",
    "train = train.drop('label', axis = 1)\n",
    "train = np.array(train).reshape(len(train), 3, 32, 32).transpose(0, 2, 3, 1)\n",
    "test = test.loc[test['label'] == bird_label, :]\n",
    "test = test.drop('label', axis = 1)\n",
    "test = np.array(test).reshape(len(test), 3, 32, 32).transpose(0, 2, 3, 1)\n",
    "data = np.concatenate((train, test))"
   ]
  },
  {
   "cell_type": "code",
   "execution_count": 8,
   "metadata": {},
   "outputs": [],
   "source": [
    "k = 4\n",
    "data_flat = flatten_data(data)\n",
    "kmeans = KMeans(n_clusters = k, random_state = 78)\n",
    "kmeans_model = kmeans.fit(data_flat)\n",
    "main_colors = kmeans_model.cluster_centers_"
   ]
  },
  {
   "cell_type": "code",
   "execution_count": 43,
   "metadata": {},
   "outputs": [],
   "source": [
    "cluster_labels = kmeans_model.predict(data_flat)\n",
    "k_colored = []\n",
    "main_color = []\n",
    "for i in range(len(cluster_labels)):\n",
    "    label = cluster_labels[i]\n",
    "    k_colored.append(main_colors[label])\n",
    "    color_one_hot = np.zeros(k)\n",
    "    color_one_hot[label] = 1\n",
    "    main_color.append(color_one_hot)\n",
    "\n",
    "k_colored = np.array(k_colored)\n",
    "k_colored = np.reshape(k_colored, (data.shape[0], 32, 32, 3))\n",
    "\n",
    "main_color = np.array(main_color)\n",
    "main_color = np.reshape(main_color, (data.shape[0], 32, 32, 4))"
   ]
  },
  {
   "cell_type": "code",
   "execution_count": 10,
   "metadata": {},
   "outputs": [],
   "source": [
    "train_grayscale = np.reshape(rgb2gray(train), (train.shape[0], 32, 32, 1))\n",
    "test_grayscale = np.reshape(rgb2gray(test), (test.shape[0], 32, 32, 1))"
   ]
  },
  {
   "cell_type": "code",
   "execution_count": 44,
   "metadata": {},
   "outputs": [],
   "source": [
    "CNN = Sequential()\n",
    "CNN.add(Conv2D(64, \n",
    "        kernel_size = (5, 5), \n",
    "        input_shape = train_grayscale.shape[1:], \n",
    "        activation = 'relu',\n",
    "        strides = (1, 1),\n",
    "        padding = 'same'))\n",
    "\n",
    "CNN.add(MaxPooling2D(pool_size = (2, 2),\n",
    "                     strides = (1, 1),\n",
    "                     padding = 'same'))\n",
    "\n",
    "CNN.add(Conv2D(64,\n",
    "               kernel_size = (5, 5),\n",
    "               strides = (1, 1),\n",
    "               padding = 'same',\n",
    "               activation = 'relu'))\n",
    "\n",
    "CNN.add(MaxPooling2D(pool_size = (2, 2),\n",
    "                     strides = (1, 1),\n",
    "                     padding = 'same'))\n",
    "\n",
    "CNN.add(Dense(32, activation = 'softmax'))\n",
    "CNN.add(Dense(4, activation = 'softmax'))\n",
    "CNN.compile(loss = 'categorical_crossentropy', optimizer = 'Adam', metrics = ['accuracy'])"
   ]
  },
  {
   "cell_type": "code",
   "execution_count": 45,
   "metadata": {},
   "outputs": [],
   "source": [
    "folder = \"/hw7_part2\"\n",
    "path = home + folder\n",
    "if(folder in os.listdir() == False):\n",
    "    os.mkdir(folder)\n",
    "else:\n",
    "    pass\n",
    "os.chdir(path)\n",
    "file_name_cnn = \"cnnmodel-{epoch:02d}-{loss:.4f}.hdf5\"\n",
    "checkpoint_cnn = ModelCheckpoint(file_name_cnn, monitor = 'loss', mode = 'min')"
   ]
  },
  {
   "cell_type": "code",
   "execution_count": 46,
   "metadata": {},
   "outputs": [
    {
     "name": "stdout",
     "output_type": "stream",
     "text": [
      "Train on 4500 samples, validate on 500 samples\n",
      "Epoch 1/60\n",
      "4500/4500 [==============================] - 30s 7ms/step - loss: 1.2545 - accuracy: 0.4616 - val_loss: 1.1751 - val_accuracy: 0.5202\n",
      "Epoch 2/60\n",
      "4500/4500 [==============================] - 33s 7ms/step - loss: 1.1302 - accuracy: 0.5232 - val_loss: 1.1051 - val_accuracy: 0.5279\n",
      "Epoch 3/60\n",
      "4500/4500 [==============================] - 30s 7ms/step - loss: 1.0632 - accuracy: 0.5364 - val_loss: 1.0391 - val_accuracy: 0.5361\n",
      "Epoch 4/60\n",
      "4500/4500 [==============================] - 30s 7ms/step - loss: 1.0212 - accuracy: 0.5371 - val_loss: 1.0062 - val_accuracy: 0.5401\n",
      "Epoch 5/60\n",
      "4500/4500 [==============================] - 32s 7ms/step - loss: 0.9817 - accuracy: 0.5472 - val_loss: 0.9693 - val_accuracy: 0.5437\n",
      "Epoch 6/60\n",
      "4500/4500 [==============================] - 32s 7ms/step - loss: 0.9378 - accuracy: 0.5506 - val_loss: 0.8974 - val_accuracy: 0.5365\n",
      "Epoch 7/60\n",
      "4500/4500 [==============================] - 32s 7ms/step - loss: 0.8529 - accuracy: 0.5974 - val_loss: 0.8198 - val_accuracy: 0.7105\n",
      "Epoch 8/60\n",
      "4500/4500 [==============================] - 31s 7ms/step - loss: 0.7883 - accuracy: 0.7194 - val_loss: 0.7604 - val_accuracy: 0.7119\n",
      "Epoch 9/60\n",
      "4500/4500 [==============================] - 31s 7ms/step - loss: 0.7385 - accuracy: 0.7829 - val_loss: 0.7152 - val_accuracy: 0.8159\n",
      "Epoch 10/60\n",
      "4500/4500 [==============================] - 30s 7ms/step - loss: 0.6960 - accuracy: 0.8105 - val_loss: 0.6787 - val_accuracy: 0.8051\n",
      "Epoch 11/60\n",
      "4500/4500 [==============================] - 30s 7ms/step - loss: 0.6653 - accuracy: 0.8045 - val_loss: 0.6625 - val_accuracy: 0.7680\n",
      "Epoch 12/60\n",
      "4500/4500 [==============================] - 30s 7ms/step - loss: 0.6372 - accuracy: 0.8116 - val_loss: 0.6203 - val_accuracy: 0.8261\n",
      "Epoch 13/60\n",
      "4500/4500 [==============================] - 30s 7ms/step - loss: 0.6138 - accuracy: 0.8158 - val_loss: 0.6016 - val_accuracy: 0.8115\n",
      "Epoch 14/60\n",
      "4500/4500 [==============================] - 30s 7ms/step - loss: 0.5909 - accuracy: 0.8235 - val_loss: 0.5867 - val_accuracy: 0.8199\n",
      "Epoch 15/60\n",
      "4500/4500 [==============================] - 31s 7ms/step - loss: 0.5773 - accuracy: 0.8182 - val_loss: 0.5590 - val_accuracy: 0.8320\n",
      "Epoch 16/60\n",
      "4500/4500 [==============================] - 30s 7ms/step - loss: 0.5557 - accuracy: 0.8316 - val_loss: 0.5735 - val_accuracy: 0.7888\n",
      "Epoch 17/60\n",
      "4500/4500 [==============================] - 30s 7ms/step - loss: 0.5401 - accuracy: 0.8372 - val_loss: 0.5263 - val_accuracy: 0.8451\n",
      "Epoch 18/60\n",
      "4500/4500 [==============================] - 31s 7ms/step - loss: 0.5223 - accuracy: 0.8439 - val_loss: 0.5246 - val_accuracy: 0.8321\n",
      "Epoch 19/60\n",
      "4500/4500 [==============================] - 31s 7ms/step - loss: 0.5103 - accuracy: 0.8469 - val_loss: 0.5078 - val_accuracy: 0.8498\n",
      "Epoch 20/60\n",
      "4500/4500 [==============================] - 30s 7ms/step - loss: 0.5007 - accuracy: 0.8458 - val_loss: 0.5115 - val_accuracy: 0.8350\n",
      "Epoch 21/60\n",
      "4500/4500 [==============================] - 32s 7ms/step - loss: 0.4898 - accuracy: 0.8484 - val_loss: 0.4773 - val_accuracy: 0.8549\n",
      "Epoch 22/60\n",
      "4500/4500 [==============================] - 31s 7ms/step - loss: 0.4786 - accuracy: 0.8510 - val_loss: 0.4722 - val_accuracy: 0.8552\n",
      "Epoch 23/60\n",
      "4500/4500 [==============================] - 31s 7ms/step - loss: 0.4688 - accuracy: 0.8530 - val_loss: 0.4610 - val_accuracy: 0.8590\n",
      "Epoch 24/60\n",
      "4500/4500 [==============================] - 31s 7ms/step - loss: 0.4581 - accuracy: 0.8575 - val_loss: 0.4495 - val_accuracy: 0.8632\n",
      "Epoch 25/60\n",
      "4500/4500 [==============================] - 31s 7ms/step - loss: 0.4526 - accuracy: 0.8545 - val_loss: 0.4515 - val_accuracy: 0.8457\n",
      "Epoch 26/60\n",
      "4500/4500 [==============================] - 31s 7ms/step - loss: 0.4391 - accuracy: 0.8609 - val_loss: 0.4344 - val_accuracy: 0.8603\n",
      "Epoch 27/60\n",
      "4500/4500 [==============================] - 31s 7ms/step - loss: 0.4365 - accuracy: 0.8577 - val_loss: 0.4256 - val_accuracy: 0.8663\n",
      "Epoch 28/60\n",
      "4500/4500 [==============================] - 31s 7ms/step - loss: 0.4286 - accuracy: 0.8596 - val_loss: 0.4211 - val_accuracy: 0.8627\n",
      "Epoch 29/60\n",
      "4500/4500 [==============================] - 31s 7ms/step - loss: 0.4198 - accuracy: 0.8622 - val_loss: 0.4093 - val_accuracy: 0.8690\n",
      "Epoch 30/60\n",
      "4500/4500 [==============================] - 30s 7ms/step - loss: 0.4148 - accuracy: 0.8619 - val_loss: 0.4145 - val_accuracy: 0.8648\n",
      "Epoch 31/60\n",
      "4500/4500 [==============================] - 32s 7ms/step - loss: 0.4100 - accuracy: 0.8612 - val_loss: 0.4031 - val_accuracy: 0.8623\n",
      "Epoch 32/60\n",
      "4500/4500 [==============================] - 32s 7ms/step - loss: 0.4031 - accuracy: 0.8621 - val_loss: 0.3943 - val_accuracy: 0.8660\n",
      "Epoch 33/60\n",
      "4500/4500 [==============================] - 31s 7ms/step - loss: 0.3958 - accuracy: 0.8639 - val_loss: 0.3862 - val_accuracy: 0.8724\n",
      "Epoch 34/60\n",
      "4500/4500 [==============================] - 31s 7ms/step - loss: 0.3889 - accuracy: 0.8664 - val_loss: 0.3794 - val_accuracy: 0.8733\n",
      "Epoch 35/60\n",
      "4500/4500 [==============================] - 31s 7ms/step - loss: 0.3915 - accuracy: 0.8619 - val_loss: 0.3909 - val_accuracy: 0.8573\n",
      "Epoch 36/60\n",
      "4500/4500 [==============================] - 31s 7ms/step - loss: 0.3841 - accuracy: 0.8634 - val_loss: 0.3728 - val_accuracy: 0.8692\n",
      "Epoch 37/60\n",
      "4500/4500 [==============================] - 31s 7ms/step - loss: 0.3783 - accuracy: 0.8654 - val_loss: 0.3657 - val_accuracy: 0.8729\n",
      "Epoch 38/60\n",
      "4500/4500 [==============================] - 30s 7ms/step - loss: 0.3811 - accuracy: 0.8604 - val_loss: 0.3630 - val_accuracy: 0.8714\n",
      "Epoch 39/60\n",
      "4500/4500 [==============================] - 31s 7ms/step - loss: 0.3659 - accuracy: 0.8692 - val_loss: 0.3619 - val_accuracy: 0.8675\n",
      "Epoch 40/60\n",
      "4500/4500 [==============================] - 31s 7ms/step - loss: 0.3632 - accuracy: 0.8685 - val_loss: 0.3684 - val_accuracy: 0.8651\n",
      "Epoch 41/60\n",
      "4500/4500 [==============================] - 32s 7ms/step - loss: 0.3563 - accuracy: 0.8714 - val_loss: 0.3490 - val_accuracy: 0.8754\n",
      "Epoch 42/60\n",
      "4500/4500 [==============================] - 32s 7ms/step - loss: 0.3606 - accuracy: 0.8663 - val_loss: 0.3537 - val_accuracy: 0.8704\n",
      "Epoch 43/60\n",
      "4500/4500 [==============================] - 32s 7ms/step - loss: 0.3538 - accuracy: 0.8688 - val_loss: 0.3463 - val_accuracy: 0.8738\n",
      "Epoch 44/60\n",
      "4500/4500 [==============================] - 32s 7ms/step - loss: 0.3495 - accuracy: 0.8703 - val_loss: 0.3461 - val_accuracy: 0.8725\n",
      "Epoch 45/60\n",
      "4500/4500 [==============================] - 32s 7ms/step - loss: 0.3487 - accuracy: 0.8693 - val_loss: 0.3907 - val_accuracy: 0.8388\n",
      "Epoch 46/60\n",
      "4500/4500 [==============================] - 32s 7ms/step - loss: 0.3467 - accuracy: 0.8688 - val_loss: 0.3474 - val_accuracy: 0.8663\n",
      "Epoch 47/60\n",
      "4500/4500 [==============================] - 32s 7ms/step - loss: 0.3437 - accuracy: 0.8692 - val_loss: 0.3454 - val_accuracy: 0.8659\n",
      "Epoch 48/60\n",
      "4500/4500 [==============================] - 32s 7ms/step - loss: 0.3374 - accuracy: 0.8722 - val_loss: 0.3370 - val_accuracy: 0.8710\n",
      "Epoch 49/60\n",
      "4500/4500 [==============================] - 33s 7ms/step - loss: 0.3484 - accuracy: 0.8642 - val_loss: 0.3280 - val_accuracy: 0.8786\n",
      "Epoch 50/60\n",
      "4500/4500 [==============================] - 32s 7ms/step - loss: 0.3385 - accuracy: 0.8691 - val_loss: 0.3260 - val_accuracy: 0.8763\n",
      "Epoch 51/60\n",
      "4500/4500 [==============================] - 32s 7ms/step - loss: 0.3309 - accuracy: 0.8734 - val_loss: 0.3229 - val_accuracy: 0.8775\n",
      "Epoch 52/60\n",
      "4500/4500 [==============================] - 34s 8ms/step - loss: 0.3314 - accuracy: 0.8716 - val_loss: 0.3296 - val_accuracy: 0.8716\n",
      "Epoch 53/60\n",
      "4500/4500 [==============================] - 33s 7ms/step - loss: 0.3278 - accuracy: 0.8732 - val_loss: 0.3196 - val_accuracy: 0.8774\n",
      "Epoch 54/60\n",
      "4500/4500 [==============================] - 33s 7ms/step - loss: 0.3255 - accuracy: 0.8733 - val_loss: 0.3222 - val_accuracy: 0.8759\n",
      "Epoch 55/60\n",
      "4500/4500 [==============================] - 32s 7ms/step - loss: 0.3294 - accuracy: 0.8712 - val_loss: 0.3163 - val_accuracy: 0.8792\n",
      "Epoch 56/60\n",
      "4500/4500 [==============================] - 32s 7ms/step - loss: 0.3211 - accuracy: 0.8746 - val_loss: 0.3161 - val_accuracy: 0.8778\n"
     ]
    },
    {
     "name": "stdout",
     "output_type": "stream",
     "text": [
      "Epoch 57/60\n",
      "4500/4500 [==============================] - 33s 7ms/step - loss: 0.3210 - accuracy: 0.8738 - val_loss: 0.3132 - val_accuracy: 0.8791\n",
      "Epoch 58/60\n",
      "4500/4500 [==============================] - 32s 7ms/step - loss: 0.3173 - accuracy: 0.8752 - val_loss: 0.3116 - val_accuracy: 0.8749\n",
      "Epoch 59/60\n",
      "4500/4500 [==============================] - 32s 7ms/step - loss: 0.3165 - accuracy: 0.8755 - val_loss: 0.3126 - val_accuracy: 0.8759\n",
      "Epoch 60/60\n",
      "4500/4500 [==============================] - 33s 7ms/step - loss: 0.3171 - accuracy: 0.8739 - val_loss: 0.3127 - val_accuracy: 0.8741\n"
     ]
    }
   ],
   "source": [
    "epochs = 60\n",
    "CNN.fit(train_grayscale, main_color[:len(train)],\n",
    "              epochs = epochs, shuffle = True, validation_split = .1, callbacks = [checkpoint_cnn])\n"
   ]
  },
  {
   "cell_type": "code",
   "execution_count": 154,
   "metadata": {},
   "outputs": [
    {
     "name": "stdout",
     "output_type": "stream",
     "text": [
      "1000/1000 [==============================] - 1s 1ms/step\n",
      "1000/1000 [==============================] - 1s 1ms/step\n",
      "1000/1000 [==============================] - 1s 1ms/step\n",
      "1000/1000 [==============================] - 1s 1ms/step\n",
      "1000/1000 [==============================] - 1s 1ms/step\n",
      "1000/1000 [==============================] - 1s 1ms/step\n",
      "1000/1000 [==============================] - 1s 1ms/step\n",
      "1000/1000 [==============================] - 1s 1ms/step\n",
      "1000/1000 [==============================] - 1s 1ms/step\n",
      "1000/1000 [==============================] - 1s 1ms/step\n",
      "1000/1000 [==============================] - 1s 1ms/step\n",
      "1000/1000 [==============================] - 1s 1ms/step\n",
      "1000/1000 [==============================] - 1s 1ms/step\n",
      "1000/1000 [==============================] - 2s 2ms/step\n",
      "1000/1000 [==============================] - 2s 2ms/step\n",
      "1000/1000 [==============================] - 2s 2ms/step\n",
      "1000/1000 [==============================] - 1s 1ms/step\n",
      "1000/1000 [==============================] - 2s 2ms/step\n",
      "1000/1000 [==============================] - 2s 2ms/step\n",
      "1000/1000 [==============================] - 2s 2ms/step\n",
      "1000/1000 [==============================] - 1s 1ms/step\n",
      "1000/1000 [==============================] - 1s 1ms/step\n",
      "1000/1000 [==============================] - 1s 1ms/step\n",
      "1000/1000 [==============================] - 1s 1ms/step\n",
      "1000/1000 [==============================] - 1s 1ms/step\n",
      "1000/1000 [==============================] - 1s 1ms/step\n",
      "1000/1000 [==============================] - 1s 1ms/step\n",
      "1000/1000 [==============================] - 1s 1ms/step\n",
      "1000/1000 [==============================] - 2s 2ms/step\n",
      "1000/1000 [==============================] - 1s 1ms/step\n",
      "1000/1000 [==============================] - 2s 2ms/step\n",
      "1000/1000 [==============================] - 2s 2ms/step\n",
      "1000/1000 [==============================] - 2s 2ms/step\n",
      "1000/1000 [==============================] - 2s 2ms/step\n",
      "1000/1000 [==============================] - 2s 2ms/step\n",
      "1000/1000 [==============================] - 2s 2ms/step\n",
      "1000/1000 [==============================] - 2s 2ms/step\n",
      "1000/1000 [==============================] - 2s 2ms/step\n",
      "1000/1000 [==============================] - 2s 2ms/step\n",
      "1000/1000 [==============================] - 2s 2ms/step\n",
      "1000/1000 [==============================] - 2s 2ms/step\n",
      "1000/1000 [==============================] - 2s 2ms/step\n",
      "1000/1000 [==============================] - 2s 2ms/step\n",
      "1000/1000 [==============================] - 2s 2ms/step\n",
      "1000/1000 [==============================] - 2s 2ms/step\n",
      "1000/1000 [==============================] - 2s 2ms/step\n",
      "1000/1000 [==============================] - 2s 2ms/step\n",
      "1000/1000 [==============================] - 2s 2ms/step\n",
      "1000/1000 [==============================] - 2s 2ms/step\n",
      "1000/1000 [==============================] - 2s 2ms/step\n",
      "1000/1000 [==============================] - 2s 2ms/step\n",
      "1000/1000 [==============================] - 1s 1ms/step\n",
      "1000/1000 [==============================] - 1s 1ms/step\n",
      "1000/1000 [==============================] - 1s 1ms/step\n",
      "1000/1000 [==============================] - 2s 2ms/step\n",
      "1000/1000 [==============================] - 2s 2ms/step\n",
      "1000/1000 [==============================] - 2s 2ms/step\n",
      "1000/1000 [==============================] - 2s 2ms/step\n",
      "1000/1000 [==============================] - 2s 2ms/step\n",
      "1000/1000 [==============================] - 1s 1ms/step\n"
     ]
    }
   ],
   "source": [
    "test_errors = []\n",
    "for f in sorted(os.listdir()):\n",
    "    if(f[:8] == \"cnnmodel\"):\n",
    "        CNN.load_weights(f)\n",
    "        test_errors.append(CNN.evaluate(test_grayscale, main_color[len(train):]))"
   ]
  },
  {
   "cell_type": "code",
   "execution_count": 155,
   "metadata": {},
   "outputs": [],
   "source": [
    "test_errors = pd.DataFrame(test_errors, columns = ['loss', 'accuracy'])"
   ]
  },
  {
   "cell_type": "code",
   "execution_count": 222,
   "metadata": {},
   "outputs": [
    {
     "data": {
      "text/plain": [
       "<matplotlib.legend.Legend at 0x15f4b1650>"
      ]
     },
     "execution_count": 222,
     "metadata": {},
     "output_type": "execute_result"
    },
    {
     "data": {
      "image/png": "[encoded data removed]",
      "text/plain": [
       "<Figure size 432x288 with 1 Axes>"
      ]
     },
     "metadata": {
      "needs_background": "light"
     },
     "output_type": "display_data"
    }
   ],
   "source": [
    "plt.plot(cnn.history['val_loss'])\n",
    "plt.plot(cnn.history['loss'], 'g')\n",
    "plt.plot(test_errors['loss'], 'r')\n",
    "plt.ylabel('loss')\n",
    "plt.xlabel('epoch')\n",
    "plt.legend(['Train', 'Validation', 'Test'], loc= 'upper right')"
   ]
  },
  {
   "cell_type": "code",
   "execution_count": 164,
   "metadata": {},
   "outputs": [],
   "source": [
    "best_epoch = np.argmin(cnn.history['val_loss'])\n",
    "best_model = sorted(os.listdir())[best_epoch]\n",
    "CNN.load_weights(best_model)"
   ]
  },
  {
   "cell_type": "code",
   "execution_count": 168,
   "metadata": {},
   "outputs": [],
   "source": [
    "pred = CNN.predict(test_grayscale)\n",
    "pred = np.reshape(pred, (pred.shape[0]*pred.shape[1]*pred.shape[2], pred.shape[3]))"
   ]
  },
  {
   "cell_type": "code",
   "execution_count": 169,
   "metadata": {},
   "outputs": [],
   "source": [
    "test_tetra =[]\n",
    "for i in range(len(pred)):\n",
    "    label = pred[i].argmax()\n",
    "    test_tetra.append(main_colors[label].tolist())\n",
    "test_tetra = np.array(test_tetra)\n",
    "test_tetra = np.reshape(test_tetra, (test.shape[0], 32, 32, 3))\n"
   ]
  },
  {
   "cell_type": "code",
   "execution_count": 204,
   "metadata": {},
   "outputs": [
    {
     "data": {
      "image/png": "[encoded data removed]",
      "text/plain": [
       "<Figure size 720x360 with 10 Axes>"
      ]
     },
     "metadata": {},
     "output_type": "display_data"
    }
   ],
   "source": [
    "fig = plt.figure(figsize = (10, 5))\n",
    "fig.subplots_adjust(hspace = 0, wspace = .1)\n",
    "for i in range(0, 10):\n",
    "    fig.add_subplot(2, 5, i+1, xticks = [], yticks = [])\n",
    "    plt.imshow(train[i])"
   ]
  },
  {
   "cell_type": "code",
   "execution_count": 217,
   "metadata": {},
   "outputs": [
    {
     "data": {
      "image/png": "[encoded data removed]",
      "text/plain": [
       "<Figure size 360x720 with 10 Axes>"
      ]
     },
     "metadata": {},
     "output_type": "display_data"
    }
   ],
   "source": [
    "fig_test = plt.figure(figsize = (5, 10))\n",
    "fig_test.subplots_adjust(hspace = 0.1, wspace = -.35)\n",
    "for i in range(0, 10):\n",
    "    fig_test.add_subplot(5, 2, i+1, xticks = [], yticks = [])\n",
    "    plt.imshow(test[i])"
   ]
  },
  {
   "cell_type": "code",
   "execution_count": 218,
   "metadata": {},
   "outputs": [
    {
     "data": {
      "image/png": "[encoded data removed]",
      "text/plain": [
       "<Figure size 360x720 with 10 Axes>"
      ]
     },
     "metadata": {},
     "output_type": "display_data"
    }
   ],
   "source": [
    "fig_tetra = plt.figure(figsize = (5, 10))\n",
    "fig_tetra.subplots_adjust(hspace = 0.1, wspace = -.35)\n",
    "for i in range(0, 10):\n",
    "    fig_tetra.add_subplot(5, 2, i+1, xticks = [], yticks = [])\n",
    "    plt.imshow(test_tetra[i].astype(np.uint8))"
   ]
  },
  {
   "cell_type": "code",
   "execution_count": 219,
   "metadata": {},
   "outputs": [
    {
     "data": {
      "image/png": "[encoded data removed]",
      "text/plain": [
       "<Figure size 360x720 with 10 Axes>"
      ]
     },
     "metadata": {},
     "output_type": "display_data"
    }
   ],
   "source": [
    "fig_gray = plt.figure(figsize = (5, 10))\n",
    "fig_gray.subplots_adjust(hspace = 0.1, wspace = -.35)\n",
    "for i in range(0, 10):\n",
    "    fig_gray.add_subplot(5, 2, i+1, xticks = [], yticks = [])\n",
    "    plt.imshow(rgb2gray(test)[i], cmap = 'gray')"
   ]
  },
  {
   "cell_type": "code",
   "execution_count": 220,
   "metadata": {},
   "outputs": [
    {
     "data": {
      "image/png": "[encoded data removed]",
      "text/plain": [
       "<Figure size 360x720 with 10 Axes>"
      ]
     },
     "metadata": {},
     "output_type": "display_data"
    }
   ],
   "source": [
    "fig_k = plt.figure(figsize = (5, 10))\n",
    "fig_k.subplots_adjust(hspace = 0.1, wspace = -.35)\n",
    "for i in range(0, 10):\n",
    "    fig_k.add_subplot(5, 2, i+1, xticks = [], yticks = [])\n",
    "    plt.imshow(k_colored[len(train) + i].astype(np.uint8))\n"
   ]
  },
  {
   "cell_type": "markdown",
   "metadata": {},
   "source": [
    "# Part2 _ Generative Models for Text"
   ]
  },
  {
   "cell_type": "code",
   "execution_count": 2,
   "metadata": {},
   "outputs": [],
   "source": [
    "def remove_newlines(sentence):\n",
    "    new_sentence = re.sub(r'\\\\r\\\\n', ' ', sentence)\n",
    "    return new_sentence"
   ]
  },
  {
   "cell_type": "code",
   "execution_count": 3,
   "metadata": {},
   "outputs": [],
   "source": [
    "def remove_header(sentence):\n",
    "    new_sentence = ' '\n",
    "    if(sentence[:11] == \"b'xefxbbxbf\"):\n",
    "        new_sentence = sentence[11:]\n",
    "    elif(sentence[:10] == \"bxefxbbxbf\"):\n",
    "        new_sentence = sentence[10:]\n",
    "    elif(sentence[:2] == \"b'\"):\n",
    "        new_sentence = sentence[2:]\n",
    "    else:\n",
    "        pass\n",
    "    return new_sentence"
   ]
  },
  {
   "cell_type": "code",
   "execution_count": 4,
   "metadata": {},
   "outputs": [],
   "source": [
    "def remove_end(sentence):\n",
    "    new_sentence = ' '\n",
    "    if(sentence[-2:] == \" '\"):\n",
    "        new_sentence = sentence[:-2]\n",
    "    return new_sentence"
   ]
  },
  {
   "cell_type": "code",
   "execution_count": 5,
   "metadata": {},
   "outputs": [],
   "source": [
    "def to_ascii(words):\n",
    "    new_words = []\n",
    "    for word in words:\n",
    "        new_word = unicodedata.normalize('NFKD', word).encode('ascii', 'ignore').decode('utf-8', 'ignore')\n",
    "        new_words.append(new_word)\n",
    "    return new_words\n"
   ]
  },
  {
   "cell_type": "code",
   "execution_count": 6,
   "metadata": {},
   "outputs": [],
   "source": [
    "def remove_punct(words):\n",
    "    new_words = []\n",
    "    for word in words:\n",
    "        new_word = re.sub(\"[^a-zA-Z' ]+\", '', word)\n",
    "        if new_word != '':\n",
    "            new_words.append(new_word)\n",
    "    return new_words"
   ]
  },
  {
   "cell_type": "code",
   "execution_count": 7,
   "metadata": {},
   "outputs": [],
   "source": [
    "def remove_controls(words):\n",
    "    new_words = []\n",
    "    for word in words:\n",
    "        if(word[:1] != chr(92) and word != ''):\n",
    "            new_words.append(word)\n",
    "        else:\n",
    "            pass\n",
    "    return new_words"
   ]
  },
  {
   "cell_type": "code",
   "execution_count": 8,
   "metadata": {},
   "outputs": [],
   "source": [
    "def remove_roman_numerals(words):\n",
    "    roman_num = ['i', 'ii', 'iii', 'iv', 'v', 'vi', 'vii', 'viii', 'ix', 'x', \n",
    "                 'II', 'III', 'IV', 'V', 'VI', 'VII', 'VIII', 'IX', 'X']\n",
    "    new_words = []\n",
    "    for word in words:\n",
    "        if(word not in roman_num and word != ''):\n",
    "            new_words.append(word)\n",
    "        else:\n",
    "            pass\n",
    "    return new_words\n"
   ]
  },
  {
   "cell_type": "code",
   "execution_count": 9,
   "metadata": {},
   "outputs": [],
   "source": [
    "def to_lower(words):\n",
    "    new_words =[]\n",
    "    for word in words:\n",
    "        new_word = word.lower()\n",
    "        new_words.append(new_word)\n",
    "    return new_words"
   ]
  },
  {
   "cell_type": "code",
   "execution_count": 10,
   "metadata": {},
   "outputs": [],
   "source": [
    "def back_to_string(words):\n",
    "    sentences = []\n",
    "    text = ' '\n",
    "    for word in words:\n",
    "        sentence = ' '.join(word)\n",
    "        sentences.append(sentence)\n",
    "    text = ' '.join(sentences)\n",
    "    return text"
   ]
  },
  {
   "cell_type": "code",
   "execution_count": 11,
   "metadata": {},
   "outputs": [],
   "source": [
    "def clean_text(text):\n",
    "    sentences = text.split('.')\n",
    "    new_words = []\n",
    "    for sentence in sentences:\n",
    "        new_sentence = re.sub(r'\\\\r\\\\n', ' ', sentence)\n",
    "        words = new_sentence.split()\n",
    "        words = remove_controls(words)\n",
    "        words = to_ascii(words)\n",
    "        words = remove_roman_numerals(words)\n",
    "        words = remove_punct(words)\n",
    "        words = to_lower(words)\n",
    "        if(len(words) != 0):\n",
    "            new_words.append(words)\n",
    "        else:\n",
    "            pass\n",
    "    text = back_to_string(new_words)\n",
    "    text = remove_header(text)\n",
    "    return text\n"
   ]
  },
  {
   "cell_type": "code",
   "execution_count": 12,
   "metadata": {},
   "outputs": [],
   "source": [
    "def unique_alpha(text):\n",
    "    unique = ''\n",
    "    for c in text:\n",
    "        unique = set(c)\n",
    "    return unique"
   ]
  },
  {
   "cell_type": "code",
   "execution_count": 13,
   "metadata": {},
   "outputs": [],
   "source": [
    "def scale(text):\n",
    "    scaled = (text - text.min()) / (text.max() - text.min())\n",
    "    return scaled"
   ]
  },
  {
   "cell_type": "code",
   "execution_count": 14,
   "metadata": {},
   "outputs": [],
   "source": [
    "def convert_to_ord(text):\n",
    "    result = []\n",
    "    for char in text:\n",
    "        result.append(ord(char))\n",
    "    result = pd.Series(result)\n",
    "    return result\n"
   ]
  },
  {
   "cell_type": "code",
   "execution_count": 15,
   "metadata": {},
   "outputs": [],
   "source": [
    "titles = ['MLOE.txt','TAMatter.txt', 'OKEWFSMP.txt', 'TPP.txt', 'THWP.txt', 'TAM.txt', 'AIIMAT.txt']\n",
    "cleaned_texts = []\n",
    "for t in titles:\n",
    "    f = open(t, 'rb')\n",
    "    s = str(f.read())\n",
    "    f.close()\n",
    "    cleaned_texts.append(clean_text(s))\n",
    "\n",
    "cleaned_texts[6] = cleaned_texts[6][:-15]\n",
    "cleaned_texts[0] = cleaned_texts[0][:-2]\n",
    "cleaned_texts[1] = cleaned_texts[1][:-2]\n",
    "cleaned_texts[2] = cleaned_texts[2][:-2]\n",
    "cleaned_texts[4] = cleaned_texts[4][:-2]\n",
    "cleaned_texts[5] = cleaned_texts[5][:-2]\n",
    "\n",
    "corpus = ' '.join(cleaned_texts)\n",
    "\n",
    "chars = list(set(corpus))\n",
    "int_to_char = dict((i, c) for i, c in enumerate(chars))\n",
    "corpus_converted = convert_to_ord(corpus)\n",
    "corpus_scaled = scale(corpus_converted)"
   ]
  },
  {
   "cell_type": "code",
   "execution_count": 16,
   "metadata": {},
   "outputs": [],
   "source": [
    "window = 100\n",
    "stride = 1\n",
    "\n",
    "string = []\n",
    "next_char = []\n",
    "\n",
    "for i in range(0, (len(corpus_scaled) - window), stride):\n",
    "    string.append(corpus_scaled[i : (i + window)])\n",
    "    next_char.append(corpus[(i + window)])\n",
    "\n",
    "x = np.reshape(string, (len(string), window, 1))\n",
    "y = OneHotEncoder().fit_transform(np.array(next_char).reshape(-1, 1)).toarray()"
   ]
  },
  {
   "cell_type": "code",
   "execution_count": 19,
   "metadata": {},
   "outputs": [
    {
     "name": "stdout",
     "output_type": "stream",
     "text": [
      "Epoch 1/60\n",
      "4831225/4831225 [==============================] - 2620s 542us/step - loss: 2.5901\n",
      "Epoch 2/60\n",
      "4831225/4831225 [==============================] - 2602s 539us/step - loss: 2.5168\n",
      "Epoch 3/60\n",
      "4831225/4831225 [==============================] - 2614s 541us/step - loss: 2.4840\n",
      "Epoch 4/60\n",
      "4831225/4831225 [==============================] - 3913s 810us/step - loss: 2.6232\n",
      "Epoch 5/60\n",
      "4831225/4831225 [==============================] - 2403s 497us/step - loss: 2.4605\n",
      "Epoch 6/60\n",
      "4831225/4831225 [==============================] - 2388s 494us/step - loss: 2.4708\n",
      "Epoch 7/60\n",
      "4831225/4831225 [==============================] - 2367s 490us/step - loss: 2.4393\n",
      "Epoch 8/60\n",
      "4831225/4831225 [==============================] - 2366s 490us/step - loss: 2.4454\n",
      "Epoch 9/60\n",
      "4831225/4831225 [==============================] - 2353s 487us/step - loss: 2.4226\n",
      "Epoch 10/60\n",
      "4831225/4831225 [==============================] - 2361s 489us/step - loss: 2.4148\n",
      "Epoch 11/60\n",
      "4831225/4831225 [==============================] - 2371s 491us/step - loss: 2.4089\n",
      "Epoch 12/60\n",
      "4831225/4831225 [==============================] - 2376s 492us/step - loss: 2.4029\n",
      "Epoch 13/60\n",
      "4831225/4831225 [==============================] - 2380s 493us/step - loss: 2.4447\n",
      "Epoch 14/60\n",
      "4831225/4831225 [==============================] - 2365s 489us/step - loss: 2.3955\n",
      "Epoch 15/60\n",
      "4831225/4831225 [==============================] - 2371s 491us/step - loss: 2.3908\n",
      "Epoch 16/60\n",
      "4831225/4831225 [==============================] - 2424s 502us/step - loss: 2.3869\n",
      "Epoch 17/60\n",
      "4831225/4831225 [==============================] - 2424s 502us/step - loss: 2.3826\n",
      "Epoch 18/60\n",
      "4831225/4831225 [==============================] - 2470s 511us/step - loss: 2.3792\n",
      "Epoch 19/60\n",
      "4831225/4831225 [==============================] - 2568s 532us/step - loss: 2.3758\n",
      "Epoch 20/60\n",
      "4831225/4831225 [==============================] - 2487s 515us/step - loss: 2.3728\n",
      "Epoch 21/60\n",
      "4831225/4831225 [==============================] - 2576s 533us/step - loss: 2.3700\n",
      "Epoch 22/60\n",
      "4831225/4831225 [==============================] - 2531s 524us/step - loss: 2.3662\n",
      "Epoch 23/60\n",
      "4831225/4831225 [==============================] - 2859s 592us/step - loss: 2.3637\n",
      "Epoch 24/60\n",
      "4831225/4831225 [==============================] - 2694s 558us/step - loss: 2.3607\n",
      "Epoch 25/60\n",
      "4831225/4831225 [==============================] - 2553s 529us/step - loss: 2.3584\n",
      "Epoch 26/60\n",
      "4831225/4831225 [==============================] - 2472s 512us/step - loss: 2.3556\n",
      "Epoch 27/60\n",
      "4831225/4831225 [==============================] - 2414s 500us/step - loss: 2.3533\n",
      "Epoch 28/60\n",
      "4831225/4831225 [==============================] - 2411s 499us/step - loss: 2.3509\n",
      "Epoch 29/60\n",
      "4831225/4831225 [==============================] - 2419s 501us/step - loss: 2.3487\n",
      "Epoch 30/60\n",
      "4831225/4831225 [==============================] - 2426s 502us/step - loss: 2.4337\n",
      "Epoch 31/60\n",
      "4831225/4831225 [==============================] - 2423s 502us/step - loss: 2.3456\n",
      "Epoch 32/60\n",
      "4831225/4831225 [==============================] - 2432s 503us/step - loss: 2.3445\n",
      "Epoch 33/60\n",
      "4831225/4831225 [==============================] - 2426s 502us/step - loss: 2.4072\n",
      "Epoch 34/60\n",
      "4831225/4831225 [==============================] - 2441s 505us/step - loss: 2.4558\n",
      "Epoch 35/60\n",
      "4831225/4831225 [==============================] - 2462s 510us/step - loss: 2.3461\n",
      "Epoch 36/60\n",
      "4831225/4831225 [==============================] - 2450s 507us/step - loss: 2.3396\n",
      "Epoch 37/60\n",
      "4831225/4831225 [==============================] - 2473s 512us/step - loss: 2.3378\n",
      "Epoch 38/60\n",
      "4831225/4831225 [==============================] - 2442s 505us/step - loss: 2.3366\n",
      "Epoch 39/60\n",
      "4831225/4831225 [==============================] - 2421s 501us/step - loss: 2.3351\n",
      "Epoch 40/60\n",
      "4831225/4831225 [==============================] - 2429s 503us/step - loss: 2.3345\n",
      "Epoch 41/60\n",
      "4831225/4831225 [==============================] - 2491s 516us/step - loss: 2.3330\n",
      "Epoch 42/60\n",
      "4831225/4831225 [==============================] - 2454s 508us/step - loss: 2.3344\n",
      "Epoch 43/60\n",
      "4831225/4831225 [==============================] - 2413s 500us/step - loss: 2.3304\n",
      "Epoch 44/60\n",
      "4831225/4831225 [==============================] - 2422s 501us/step - loss: 2.3293\n",
      "Epoch 45/60\n",
      "4831225/4831225 [==============================] - 2420s 501us/step - loss: 2.3280\n",
      "Epoch 46/60\n",
      "4831225/4831225 [==============================] - 2421s 501us/step - loss: 2.3270\n",
      "Epoch 47/60\n",
      "4831225/4831225 [==============================] - 2424s 502us/step - loss: 2.3258\n",
      "Epoch 48/60\n",
      "4831225/4831225 [==============================] - 2421s 501us/step - loss: 2.4293\n",
      "Epoch 49/60\n",
      "4831225/4831225 [==============================] - 2422s 501us/step - loss: 2.5251\n",
      "Epoch 50/60\n",
      "4831225/4831225 [==============================] - 2421s 501us/step - loss: 2.4047\n",
      "Epoch 51/60\n",
      "4831225/4831225 [==============================] - 2428s 503us/step - loss: 2.4173\n",
      "Epoch 52/60\n",
      "4831225/4831225 [==============================] - 2424s 502us/step - loss: 2.3893\n",
      "Epoch 53/60\n",
      "4831225/4831225 [==============================] - 2396s 496us/step - loss: 2.4219\n",
      "Epoch 54/60\n",
      "4831225/4831225 [==============================] - 2400s 497us/step - loss: 2.4439\n",
      "Epoch 55/60\n",
      "4831225/4831225 [==============================] - 2450s 507us/step - loss: nan\n",
      "Epoch 56/60\n",
      "4831225/4831225 [==============================] - 2380s 493us/step - loss: nan\n",
      "Epoch 57/60\n",
      "4831225/4831225 [==============================] - 9522s 2ms/step - loss: nan\n",
      "Epoch 58/60\n",
      "4831225/4831225 [==============================] - 2424s 502us/step - loss: nan\n",
      "Epoch 59/60\n",
      "4831225/4831225 [==============================] - 2390s 495us/step - loss: nan\n",
      "Epoch 60/60\n",
      "4831225/4831225 [==============================] - 2335s 483us/step - loss: nan\n"
     ]
    },
    {
     "data": {
      "text/plain": [
       "<keras.callbacks.callbacks.History at 0x3e7575a90>"
      ]
     },
     "execution_count": 19,
     "metadata": {},
     "output_type": "execute_result"
    }
   ],
   "source": [
    "memory_units = len(chars)\n",
    "model = Sequential()\n",
    "model.add(LSTM(memory_units, input_shape = (x.shape[1], x.shape[2])))\n",
    "model.add(Dropout(.2))\n",
    "model.add(Dense(y.shape[1], activation = 'softmax'))\n",
    "model.compile(loss = 'categorical_crossentropy', optimizer = 'Adam')\n",
    "filepath = \"weights-improvement-{epoch:02d}-{loss:.2f}.hdf5\"\n",
    "checkpoint = ModelCheckpoint(filepath, monitor = 'loss', mode = 'min')\n",
    "callbacks_set = [checkpoint]\n",
    "\n",
    "model.fit(x, y, batch_size = 64, epochs = 60, callbacks = callbacks_set)"
   ]
  },
  {
   "cell_type": "code",
   "execution_count": 21,
   "metadata": {},
   "outputs": [],
   "source": [
    "filename = \"weights-improvement-47-2.33.hdf5\"\n",
    "model.load_weights(filename)\n",
    "\n",
    "input_string = \"there are those who take mental phenomena naively just as they would physical phenomena this school of psychologists tends not to  emphasize the ojbect\"\n",
    "\n",
    "length = 1000\n",
    "output = '' \n",
    "for i in range(length):\n",
    "    input_converted = convert_to_ord(input_string[i : (window + i)])\n",
    "    input_scaled = scale(input_converted)\n",
    "    x_ = np.array(input_scaled).reshape(1, -1)\n",
    "    x_ = np.reshape(x_, (1, window, 1))\n",
    "    pred = model.predict(x_, verbose = 0)\n",
    "    index = np.argmax(pred)\n",
    "    result = int_to_char[index]\n",
    "    output += result\n",
    "    input_string += result"
   ]
  },
  {
   "cell_type": "code",
   "execution_count": 34,
   "metadata": {},
   "outputs": [
    {
     "data": {
      "text/plain": [
       "\"wznw'hnnnhhnnnnnnw'hehnwznnw'hwehnnnnnznnw'hnwzwwzinjhhnwinhnnnnnnnnnnwinhnnnnnnwiniwnnnnnnnnnzinnhhnnhnnnnnnnnnnnnnnnnnnnnnnnnnnnnnnnnnnnnnnnnnnnnnnnnnnnnnnnnnnnnnnnnnnnnnnnnnnnnnnnnnnnnnnnnnnnnnnnnnnnnnnnnnnnnnnnnnnnnnnnnnnnnnnnnnnnnnnnnnnnnnnnnnnnhnnnnnnnnnnnnnnnnnnnnnnnnnnnnnnnnnnnnnnnnnnnnnnnnnnnw'nnnnnnnnnnnhnnnnnnnnnnnnnnnnnnnnnnnnnnnnnnnnnnnnnnnwznijejnhnnnnnnnnnnnnnnnnnnnnnnnnnnnnnnnnnnnnnnnnnnnnnninnnnnnnnnnnnnnnnnnnnnnnnnnnnnnnnnnnnnnnnnnnnnnnnnhnwnnnhnnnnnnnnnnnhnnnnnnnnnnnnnnnnnnnnnnnnnnnnnnnnnw'nhnnnnnnhnnnnnnnnnonnnnnnnnnnnnnnnnnnnnnnnnnnnnnnnnwznejhnnnnnnnnnnnnnnnnnnnnnnnnnnnnnnnnnnnnnnnnnnnnnnnnnnnnnnnnnnnnnnnnnnnnnnnnnnnnnnnnnnnnnnnnnnnnnnnnnnnnnnnnnnnnnnnnnnnnnnnnnnnnnnnnhnnnnnnnnhnnnnnnnnnnnnnnnnnnnnnnnnnnnnnnnnnnnnnnnnnnw'nnnnnnnw'nnnnnnnnnnnhnnnnnnnnnnnnnnnnnnnnnnnnnnnnnhwznijejnhwznejejnhnnnnnnnnnnnnnnnnnnnnnnnnnnnnnnnnnnnnninnnnnnnnnnnnnnnnnnnnnnnnnnnnnnnnnnnnnnnnnnnnnnnnnnnnnenhnnnnnnnnnnnnnnnnnnnnnnnnnnnnnnnnnnnnnhnnnnnnnnnnnn'ennn'dnnhhnhnnnnnnnnnnnnnnnnnnnnn\""
      ]
     },
     "execution_count": 34,
     "metadata": {},
     "output_type": "execute_result"
    }
   ],
   "source": [
    "output"
   ]
  },
  {
   "cell_type": "code",
   "execution_count": 30,
   "metadata": {
    "scrolled": false
   },
   "outputs": [
    {
     "name": "stdout",
     "output_type": "stream",
     "text": [
      "Epoch 1/30\n",
      "4831225/4831225 [==============================] - 6719s 1ms/step - loss: 2.4276\n",
      "Epoch 2/30\n",
      "4831225/4831225 [==============================] - 6848s 1ms/step - loss: 2.1585\n",
      "Epoch 3/30\n",
      "4831225/4831225 [==============================] - 7384s 2ms/step - loss: 2.0539\n",
      "Epoch 4/30\n",
      "4831225/4831225 [==============================] - 7396s 2ms/step - loss: 1.9960\n",
      "Epoch 5/30\n",
      "4831225/4831225 [==============================] - 7405s 2ms/step - loss: 1.9588\n",
      "Epoch 6/30\n",
      "4831225/4831225 [==============================] - 7418s 2ms/step - loss: 1.9310\n",
      "Epoch 7/30\n",
      "4831225/4831225 [==============================] - 7419s 2ms/step - loss: 2.4369\n",
      "Epoch 8/30\n",
      "4831225/4831225 [==============================] - 7125s 1ms/step - loss: 2.7141\n",
      "Epoch 9/30\n",
      "4831225/4831225 [==============================] - 9903s 2ms/step - loss: 2.7039\n",
      "Epoch 10/30\n",
      "4831225/4831225 [==============================] - 9584s 2ms/step - loss: 2.6022\n",
      "Epoch 11/30\n",
      "4831225/4831225 [==============================] - 7489s 2ms/step - loss: 2.3711\n",
      "Epoch 12/30\n",
      "4831225/4831225 [==============================] - 12263s 3ms/step - loss: 2.5462\n",
      "Epoch 13/30\n",
      "4831225/4831225 [==============================] - 7410s 2ms/step - loss: 2.4432\n",
      "Epoch 14/30\n",
      "4831225/4831225 [==============================] - 7461s 2ms/step - loss: 2.2999\n",
      "Epoch 15/30\n",
      "4831225/4831225 [==============================] - 7465s 2ms/step - loss: 2.1522\n",
      "Epoch 16/30\n",
      "4831225/4831225 [==============================] - 7474s 2ms/step - loss: 2.1553\n",
      "Epoch 17/30\n",
      "4831225/4831225 [==============================] - 7424s 2ms/step - loss: 2.1019\n",
      "Epoch 18/30\n",
      "4831225/4831225 [==============================] - 7472s 2ms/step - loss: 2.1217\n",
      "Epoch 19/30\n",
      "4831225/4831225 [==============================] - 7244s 1ms/step - loss: 2.3464\n",
      "Epoch 20/30\n",
      "4831225/4831225 [==============================] - 9897s 2ms/step - loss: 2.7600\n",
      "Epoch 21/30\n",
      "4831225/4831225 [==============================] - 14403s 3ms/step - loss: 2.6981\n",
      "Epoch 22/30\n",
      "4831225/4831225 [==============================] - 7434s 2ms/step - loss: 2.6860\n",
      "Epoch 23/30\n",
      "4831225/4831225 [==============================] - 55261s 11ms/step - loss: 2.6776\n",
      "Epoch 24/30\n",
      "4831225/4831225 [==============================] - 113212s 23ms/step - loss: 2.6959\n",
      "Epoch 25/30\n",
      "4831225/4831225 [==============================] - 7348s 2ms/step - loss: 2.6934\n",
      "Epoch 26/30\n",
      "4831225/4831225 [==============================] - 7508s 2ms/step - loss: 2.6315\n",
      "Epoch 27/30\n",
      "4831225/4831225 [==============================] - 6896s 1ms/step - loss: 2.6287\n",
      "Epoch 28/30\n",
      "4831225/4831225 [==============================] - 6902s 1ms/step - loss: 2.7186\n",
      "Epoch 29/30\n",
      "4831225/4831225 [==============================] - 6900s 1ms/step - loss: 2.7540\n",
      "Epoch 30/30\n",
      "4831225/4831225 [==============================] - 6897s 1ms/step - loss: 2.6367\n"
     ]
    },
    {
     "data": {
      "text/plain": [
       "<keras.callbacks.callbacks.History at 0x440a95a90>"
      ]
     },
     "execution_count": 30,
     "metadata": {},
     "output_type": "execute_result"
    }
   ],
   "source": [
    "model2 = Sequential()\n",
    "model2.add(LSTM(128, input_shape = (x.shape[1], x.shape[2])))\n",
    "model2.add(Dropout(.2))\n",
    "model2.add(Dense(y.shape[1], activation = 'softmax'))\n",
    "model2.compile(loss = 'categorical_crossentropy', optimizer = 'Adam')\n",
    "filepath2 = \"model2/weights-improvement-{epoch:02d}-{loss:.4f}.hdf5\"\n",
    "checkpoint2 = ModelCheckpoint(filepath2, monitor = 'loss', mode = 'min')\n",
    "callbacks_set2 = [checkpoint2]\n",
    "\n",
    "model2.fit(x, y, batch_size = 64, epochs = 30, callbacks = callbacks_set)"
   ]
  },
  {
   "cell_type": "code",
   "execution_count": 31,
   "metadata": {},
   "outputs": [],
   "source": [
    "filename2 = \"weights-improvement-06-1.93.hdf5\"\n",
    "model2.load_weights(filename2)\n",
    "\n",
    "input_string2 = \"there are those who take mental phenomena naively just as they would physical phenomena this school of psychologists tends not to  emphasize the ojbect\"\n",
    "\n",
    "length = 1000\n",
    "output2 = '' \n",
    "for i in range(length):\n",
    "    input_converted2 = convert_to_ord(input_string[i : (window + i)])\n",
    "    input_scaled2 = scale(input_converted)\n",
    "    x_2 = np.array(input_scaled2).reshape(1, -1)\n",
    "    x_2 = np.reshape(x_, (1, window, 1))\n",
    "    pred2 = model2.predict(x_2, verbose = 0)\n",
    "    index2 = np.argmax(pred2)\n",
    "    result2 = int_to_char[index2]\n",
    "    output2 += result2\n",
    "    input_string2 += result2"
   ]
  },
  {
   "cell_type": "code",
   "execution_count": 33,
   "metadata": {},
   "outputs": [
    {
     "data": {
      "text/plain": [
       "\"''''''''''''''''''''''''''''''''''''''''''''''''''''''''''''''''''''''''''''''''''''''''''''''''''''''''''''''''''''''''''''''''''''''''''''''''''''''''''''''''''''''''''''''''''''''''''''''''''''''''''''''''''''''''''''''''''''''''''''''''''''''''''''''''''''''''''''''''''''''''''''''''''''''''''''''''''''''''''''''''''''''''''''''''''''''''''''''''''''''''''''''''''''''''''''''''''''''''''''''''''''''''''''''''''''''''''''''''''''''''''''''''''''''''''''''''''''''''''''''''''''''''''''''''''''''''''''''''''''''''''''''''''''''''''''''''''''''''''''''''''''''''''''''''''''''''''''''''''''''''''''''''''''''''''''''''''''''''''''''''''''''''''''''''''''''''''''''''''''''''''''''''''''''''''''''''''''''''''''''''''''''''''''''''''''''''''''''''''''''''''''''''''''''''''''''''''''''''''''''''''''''''''''''''''''''''''''''''''''''''''''''''''''''''''''''''''''''''''''''''''''''''''''''''''''''''''''''''''''''''''''''''''''''''''''''''''''''''''''''''''''''''''''''''''''''''''''''''''''''''\""
      ]
     },
     "execution_count": 33,
     "metadata": {},
     "output_type": "execute_result"
    }
   ],
   "source": [
    "output2"
   ]
  },
  {
   "cell_type": "code",
   "execution_count": null,
   "metadata": {},
   "outputs": [],
   "source": []
  }
 ],
 "metadata": {
  "kernelspec": {
   "display_name": "Python 3",
   "language": "python",
   "name": "python3"
  },
  "language_info": {
   "codemirror_mode": {
    "name": "ipython",
    "version": 3
   },
   "file_extension": ".py",
   "mimetype": "text/x-python",
   "name": "python",
   "nbconvert_exporter": "python",
   "pygments_lexer": "ipython3",
   "version": "3.7.4"
  }
 },
 "nbformat": 4,
 "nbformat_minor": 2
}
