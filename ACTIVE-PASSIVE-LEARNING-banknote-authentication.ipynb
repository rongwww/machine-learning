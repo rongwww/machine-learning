{
 "cells": [
  {
   "cell_type": "code",
   "execution_count": null,
   "metadata": {
    "collapsed": true
   },
   "outputs": [],
   "source": [
    "import os\n",
    "import wget\n",
    "import pandas as pd\n",
    "import seaborn as sns\n",
    "import numpy as np\n",
    "from sklearn.svm import LinearSVC\n",
    "from sklearn.model_selection import cross_validate as cv\n",
    "import sklearn.preprocessing as pp\n",
    "from sklearn.metrics import f1_score, precision_score, recall_score, roc_curve, auc, accuracy_score, confusion_matrix\n",
    "from sklearn.cluster import KMeans, SpectralClustering\n",
    "from statistics import mode\n",
    "from sklearn.model_selection import cross_val_score\n",
    "import matplotlib.pyplot as plt"
   ]
  },
  {
   "cell_type": "markdown",
   "source": [
    "# Banknote Atuthentication\n",
    "## Passive / Active Learning"
   ],
   "metadata": {
    "collapsed": false
   }
  },
  {
   "cell_type": "code",
   "execution_count": null,
   "outputs": [],
   "source": [
    "if('bank.csv' in os.listdir() == False) :\n",
    "    url2 = \"https://archive.ics.uci.edu/ml/machine-learning-databases/00267/data_banknote_authentication.txt\"\n",
    "    wget.download(url2, \"bank.csv\")\n",
    "else:\n",
    "    pass\n",
    "\n",
    "\n",
    "bank_data = pd.read_csv(\"bank.csv\", header = None)\n",
    "cols_bank = ['var', 'skew', 'curtosis', 'entropy', 'class']\n",
    "bank_data.columns = cols_bank\n",
    "bank_train = bank_data.sample(n = 900, random_state = 78)\n",
    "bank_test = bank_data.drop(bank_train.index)"
   ],
   "metadata": {
    "collapsed": false,
    "pycharm": {
     "name": "#%%\n"
    }
   }
  },
  {
   "cell_type": "code",
   "execution_count": null,
   "outputs": [],
   "source": [
    "M2 = 50\n",
    "\n",
    "passive = []\n",
    "\n",
    "\n",
    "\n",
    "for i in range(M2):\n",
    "   \n",
    "    bank_pool_passive = bank_train.copy()\n",
    "    bank_use_passive = pd.DataFrame()\n",
    "    \n",
    "    df = pd.DataFrame(columns = ['training_instances', 'test_error', 'c'])\n",
    "    \n",
    "    while(bank_pool_passive.size > 0):\n",
    "        flag = True\n",
    "        while(flag):        #make sure each class has at least 1 instance\n",
    "            bank_curr_passive = bank_pool_passive.sample(n = 10)\n",
    "            if(bank_curr_passive[bank_curr_passive['class'] == 0].shape[0] == 5 and\n",
    "               bank_curr_passive[bank_curr_passive['class'] == 1].shape[0] == 5):\n",
    "               flag = False\n",
    "            else:\n",
    "                flag = True\n",
    "        bank_pool_passive = bank_pool_passive.drop(index = bank_curr_passive.index.values)\n",
    "        bank_use_passive = bank_use_passive.append(bank_curr_passive)\n",
    "        \n",
    "        #cross-validation for parameter\n",
    "        best_c = None\n",
    "        best_score = float('-inf')\n",
    "        \n",
    "        for c in range(-3, 3):\n",
    "            svc_passive = LinearSVC(penalty = 'l1', dual = False, C = 10**c, random_state = i)\n",
    "            score = np.mean(cross_val_score(cv = 5, estimator = svc_passive, X = bank_use_passive.iloc[:, :-1], y = bank_use_passive.iloc[:,-1], scoring = 'accuracy'))\n",
    "            if(score > best_score):\n",
    "                best_score = score\n",
    "                best_c = c\n",
    "              \n",
    "        best_svc_passive = LinearSVC(penalty = 'l1', dual = False, C = 10**best_c, random_state = i)\n",
    "        best_svc_passive.fit(bank_use_passive.iloc[:, : -1], bank_use_passive.iloc[:, -1])\n",
    "        test_error_passive = (1 - best_svc_passive.score(bank_test.iloc[:, :-1], bank_test.iloc[:, -1]))\n",
    "        df = df.append({'training_instances' : bank_use_passive.shape[0], 'test_error' : test_error_passive,\n",
    "                        'c' : best_c}, ignore_index = True)\n",
    "        \n",
    "    passive.append(df)"
   ],
   "metadata": {
    "collapsed": false,
    "pycharm": {
     "name": "#%%\n"
    }
   }
  },
  {
   "cell_type": "code",
   "execution_count": null,
   "outputs": [],
   "source": [
    "active = []        \n",
    "\n",
    "for j in range(M2):\n",
    "   \n",
    "    bank_pool_active = bank_train.copy()\n",
    "    flag_active = True\n",
    "    while(flag_active):\n",
    "        bank_use_active = bank_pool_active.sample(n = 10)\n",
    "        if(bank_use_active[bank_use_active['class'] == 0].shape[0] != 0 and\n",
    "           bank_use_active[bank_use_active['class'] == 1].shape[0] != 0):\n",
    "            flag_active = False\n",
    "        else:\n",
    "            flag_active = True\n",
    "    bank_pool_active = bank_pool_active.drop(index = bank_use_active.index.values)\n",
    "    \n",
    "    best_c_active = None\n",
    "    best_score_active = float('-inf')\n",
    "    \n",
    "    df_active = pd.DataFrame(columns = ['training_instances', 'test_error', 'c'])\n",
    "    \n",
    "    while(bank_pool_active.size > 0):\n",
    "        for c_active in range(-3, 3):\n",
    "            svc_active = LinearSVC(penalty = 'l1', dual = False, C = 10**c_active, random_state = j)\n",
    "            score_active = np.mean(cross_val_score(cv = 5, estimator = svc_active, X = bank_use_active.iloc[:, :-1], y = bank_use_active.iloc[:, -1], scoring = 'accuracy'))\n",
    "            if(score_active > best_score_active):\n",
    "                best_score_active = score_active\n",
    "                best_c_active = c\n",
    "            \n",
    "        best_svc_active = LinearSVC(penalty = 'l1', dual = False, C = 10**best_c_active, random_state = j)\n",
    "        best_svc_active.fit(bank_use_active.iloc[:, :-1], bank_use_active.iloc[:,-1])\n",
    "        test_error_active = (1 - best_svc_active.score(bank_test.iloc[:, :-1], bank_test.iloc[:, -1]))\n",
    "        \n",
    "        df_active = df_active.append({'training_instances' : bank_use_active.shape[0], 'test_error' : test_error_active,\n",
    "                        'c' : best_c_active}, ignore_index = True)\n",
    "    \n",
    "        hyperplane = pd.Series(best_svc_active.decision_function(bank_pool_active.iloc[:,: -1]), index = bank_pool_active.index)\n",
    "        w_norm = np.linalg.norm(best_svc_active.coef_)\n",
    "        distance = hyperplane / w_norm\n",
    "        closest_idx = np.abs(distance).sort_values()[:10].index.values\n",
    "        \n",
    "        bank_use_active = bank_use_active.append(bank_pool_active.loc[closest_idx])\n",
    "        bank_pool_active = bank_pool_active.drop(index = closest_idx)\n",
    "    \n",
    "    active.append(df_active)"
   ],
   "metadata": {
    "collapsed": false,
    "pycharm": {
     "name": "#%%\n"
    }
   }
  },
  {
   "cell_type": "code",
   "execution_count": null,
   "outputs": [],
   "source": [
    "monte = pd.DataFrame()\n",
    "for a in len(active):\n",
    "    active[a]['test_error']\n",
    "\n"
   ],
   "metadata": {
    "collapsed": false,
    "pycharm": {
     "name": "#%%\n"
    }
   }
  }
 ],
 "metadata": {
  "kernelspec": {
   "display_name": "Python 3",
   "language": "python",
   "name": "python3"
  },
  "language_info": {
   "codemirror_mode": {
    "name": "ipython",
    "version": 2
   },
   "file_extension": ".py",
   "mimetype": "text/x-python",
   "name": "python",
   "nbconvert_exporter": "python",
   "pygments_lexer": "ipython2",
   "version": "2.7.6"
  }
 },
 "nbformat": 4,
 "nbformat_minor": 0
}