{
 "cells": [
  {
   "cell_type": "code",
   "execution_count": null,
   "outputs": [],
   "source": [
    "import os\n",
    "import pickle\n",
    "import pandas as pd\n",
    "import numpy as np\n",
    "import random\n",
    "import matplotlib.pyplot as plt\n",
    "from skimage.color import rgb2gray\n",
    "from sklearn.cluster import KMeans\n",
    "import re\n",
    "import unicodedata\n",
    "from sklearn.preprocessing import OneHotEncoder\n",
    "from keras.models import Sequential\n",
    "from keras.layers import LSTM\n",
    "from keras.layers import Dense\n",
    "from keras.layers import Dropout\n",
    "from keras.layers import Conv2D\n",
    "from keras.layers import MaxPooling2D\n",
    "from keras.layers import Flatten\n",
    "from keras.callbacks import ModelCheckpoint\n"
   ],
   "metadata": {
    "collapsed": false,
    "pycharm": {
     "name": "#%%\n"
    }
   }
  },
  {
   "cell_type": "markdown",
   "source": [
    "Part 1 _ CNNs for Image Colorization"
   ],
   "metadata": {
    "collapsed": false
   }
  },
  {
   "cell_type": "code",
   "execution_count": null,
   "outputs": [],
   "source": [
    "def unpickle(file):\n",
    "    with open(file, 'rb') as fo:\n",
    "        dict = pickle.load(fo, encoding='bytes')\n",
    "    return dict"
   ],
   "metadata": {
    "collapsed": false,
    "pycharm": {
     "name": "#%%\n"
    }
   }
  },
  {
   "cell_type": "code",
   "execution_count": null,
   "outputs": [],
   "source": [
    "def load_data(path):\n",
    "    home = os.getcwd()\n",
    "    os.chdir(path)\n",
    "    file_names = os.listdir()\n",
    "    data = []\n",
    "    \n",
    "    for f in file_names:\n",
    "        if('batch' in f):\n",
    "            if('meta' in f):\n",
    "                label = unpickle(f)\n",
    "            else:\n",
    "                data.append(unpickle(f))\n",
    "        else:\n",
    "            pass\n",
    "    os.chdir(home)\n",
    "    return data, label\n"
   ],
   "metadata": {
    "collapsed": false,
    "pycharm": {
     "name": "#%%\n"
    }
   }
  },
  {
   "cell_type": "code",
   "execution_count": null,
   "outputs": [],
   "source": [
    "def save_df(file):\n",
    "    df = pd.DataFrame(file.get(b'data'))\n",
    "    df['label'] = file.get(b'labels')\n",
    "    return df\n"
   ],
   "metadata": {
    "collapsed": false,
    "pycharm": {
     "name": "#%%\n"
    }
   }
  },
  {
   "cell_type": "code",
   "execution_count": null,
   "outputs": [],
   "source": [
    "def get_class(name):\n",
    "    label_names = unpickle((path + '/batches.meta'))\n",
    "    label_names = list(label_names.get(b'label_names'))    \n",
    "    return label_names.index(name)\n"
   ],
   "metadata": {
    "collapsed": false,
    "pycharm": {
     "name": "#%%\n"
    }
   }
  },
  {
   "cell_type": "code",
   "execution_count": null,
   "outputs": [],
   "source": [
    "def flatten_data(data):\n",
    "    total_pixels = data.shape[0] * data.shape[1] * data.shape[2]\n",
    "    data_flat = data.reshape(total_pixels, data.shape[3])\n",
    "    return data_flat"
   ],
   "metadata": {
    "collapsed": false,
    "pycharm": {
     "name": "#%%\n"
    }
   }
  },
  {
   "cell_type": "code",
   "execution_count": null,
   "outputs": [],
   "source": [
    "home = os.getcwd()\n",
    "folder_name = 'cifar-10-batches-py'\n",
    "path = home + '/' + folder_name\n",
    "dataset, label = load_data(path)\n",
    "bird_label = get_class(b'bird') \n",
    "\n",
    "\n",
    "train = pd.DataFrame()\n",
    "for d in dataset:\n",
    "    if(b'test' in d.get(b'batch_label')):\n",
    "        test = save_df(d)\n",
    "    else:\n",
    "        train = train.append(save_df(d))\n",
    "       \n",
    "train = train.loc[train['label'] == bird_label, :]\n",
    "train = train.drop('label', axis = 1)\n",
    "train = np.array(train).reshape(len(train), 3, 32, 32).transpose(0, 2, 3, 1)\n",
    "test = test.loc[test['label'] == bird_label, :]\n",
    "test = test.drop('label', axis = 1)\n",
    "test = np.array(test).reshape(len(test), 3, 32, 32).transpose(0, 2, 3, 1)\n",
    "data = np.concatenate((train, test))"
   ],
   "metadata": {
    "collapsed": false,
    "pycharm": {
     "name": "#%%\n"
    }
   }
  },
  {
   "cell_type": "code",
   "execution_count": null,
   "outputs": [],
   "source": [
    "k = 4\n",
    "data_flat = flatten_data(data)\n",
    "kmeans = KMeans(n_clusters = k, random_state = 78)\n",
    "kmeans_model = kmeans.fit(data_flat)\n",
    "main_colors = kmeans_model.cluster_centers_"
   ],
   "metadata": {
    "collapsed": false,
    "pycharm": {
     "name": "#%%\n"
    }
   }
  },
  {
   "cell_type": "code",
   "execution_count": null,
   "outputs": [],
   "source": [
    "cluster_labels = kmeans_model.predict(data_flat)\n",
    "k_colored = []\n",
    "main_color = []\n",
    "for i in range(len(cluster_labels)):\n",
    "    label = cluster_labels[i]\n",
    "    k_colored.append(main_colors[label])\n",
    "    color_one_hot = np.zeros(k)\n",
    "    color_one_hot[label] = 1\n",
    "    main_color.append(color_one_hot)\n",
    "\n",
    "k_colored = np.array(k_colored)\n",
    "k_colored = np.reshape(k_colored, (data.shape[0], 32, 32, 3))\n",
    "\n",
    "main_color = np.array(main_color)\n",
    "main_color = np.reshape(main_color, (data.shape[0], 32, 32, 4))"
   ],
   "metadata": {
    "collapsed": false,
    "pycharm": {
     "name": "#%%\n"
    }
   }
  },
  {
   "cell_type": "code",
   "execution_count": null,
   "outputs": [],
   "source": [
    "train_grayscale = np.reshape(rgb2gray(train), (train.shape[0], 32, 32, 1))\n",
    "test_grayscale = np.reshape(rgb2gray(test), (test.shape[0], 32, 32, 1))"
   ],
   "metadata": {
    "collapsed": false,
    "pycharm": {
     "name": "#%%\n"
    }
   }
  },
  {
   "cell_type": "code",
   "execution_count": null,
   "outputs": [],
   "source": [
    "CNN = Sequential()\n",
    "CNN.add(Conv2D(64, \n",
    "        kernel_size = (5, 5), \n",
    "        input_shape = train_grayscale.shape[1:], \n",
    "        activation = 'relu',\n",
    "        strides = (1, 1),\n",
    "        padding = 'same'))\n",
    "\n",
    "CNN.add(MaxPooling2D(pool_size = (2, 2),\n",
    "                     strides = (1, 1),\n",
    "                     padding = 'same'))\n",
    "\n",
    "CNN.add(Conv2D(64,\n",
    "               kernel_size = (5, 5),\n",
    "               strides = (1, 1),\n",
    "               padding = 'same',\n",
    "               activation = 'relu'))\n",
    "\n",
    "CNN.add(MaxPooling2D(pool_size = (2, 2),\n",
    "                     strides = (1, 1),\n",
    "                     padding = 'same'))\n",
    "\n",
    "CNN.add(Dense(32, activation = 'softmax'))\n",
    "CNN.add(Dense(4, activation = 'softmax'))\n",
    "CNN.compile(loss = 'categorical_crossentropy', optimizer = 'Adam', metrics = ['accuracy'])"
   ],
   "metadata": {
    "collapsed": false,
    "pycharm": {
     "name": "#%%\n"
    }
   }
  },
  {
   "cell_type": "code",
   "execution_count": null,
   "outputs": [],
   "source": [
    "folder = \"/hw7_part2\"\n",
    "path = home + folder\n",
    "if(folder in os.listdir() == False):\n",
    "    os.mkdir(folder)\n",
    "else:\n",
    "    pass\n",
    "os.chdir(path)\n",
    "file_name_cnn = \"cnnmodel-{epoch:02d}-{loss:.4f}.hdf5\"\n",
    "checkpoint_cnn = ModelCheckpoint(file_name_cnn, monitor = 'loss', mode = 'min')"
   ],
   "metadata": {
    "collapsed": false,
    "pycharm": {
     "name": "#%%\n"
    }
   }
  },
  {
   "cell_type": "code",
   "execution_count": null,
   "outputs": [],
   "source": [
    "epochs = 60\n",
    "CNN.fit(train_grayscale, main_color[:len(train)],\n",
    "              epochs = epochs, shuffle = True, validation_split = .1, callbacks = [checkpoint_cnn])\n"
   ],
   "metadata": {
    "collapsed": false,
    "pycharm": {
     "name": "#%%\n"
    }
   }
  },
  {
   "cell_type": "code",
   "execution_count": null,
   "outputs": [],
   "source": [
    "test_errors = []\n",
    "for f in sorted(os.listdir()):\n",
    "    if(f[:8] == \"cnnmodel\"):\n",
    "        CNN.load_weights(f)\n",
    "        test_errors.append(CNN.evaluate(test_grayscale, main_color[len(train):]))"
   ],
   "metadata": {
    "collapsed": false,
    "pycharm": {
     "name": "#%%\n"
    }
   }
  },
  {
   "cell_type": "code",
   "execution_count": null,
   "outputs": [],
   "source": [
    "test_errors = pd.DataFrame(test_errors, columns = ['loss', 'accuracy'])"
   ],
   "metadata": {
    "collapsed": false,
    "pycharm": {
     "name": "#%%\n"
    }
   }
  },
  {
   "cell_type": "code",
   "execution_count": null,
   "outputs": [],
   "source": [
    "plt.plot(cnn.history['val_loss'])\n",
    "plt.plot(cnn.history['loss'], 'g')\n",
    "plt.plot(test_errors['loss'], 'r')\n",
    "plt.ylabel('loss')\n",
    "plt.xlabel('epoch')\n",
    "plt.legend(['Train', 'Validation', 'Test'], loc= 'upper right')"
   ],
   "metadata": {
    "collapsed": false,
    "pycharm": {
     "name": "#%%\n"
    }
   }
  },
  {
   "cell_type": "code",
   "execution_count": null,
   "outputs": [],
   "source": [
    "best_epoch = np.argmin(cnn.history['val_loss'])\n",
    "best_model = sorted(os.listdir())[best_epoch]\n",
    "CNN.load_weights(best_model)"
   ],
   "metadata": {
    "collapsed": false,
    "pycharm": {
     "name": "#%%\n"
    }
   }
  },
  {
   "cell_type": "code",
   "execution_count": null,
   "outputs": [],
   "source": [
    "pred = CNN.predict(test_grayscale)\n",
    "pred = np.reshape(pred, (pred.shape[0]*pred.shape[1]*pred.shape[2], pred.shape[3]))"
   ],
   "metadata": {
    "collapsed": false,
    "pycharm": {
     "name": "#%%\n"
    }
   }
  },
  {
   "cell_type": "code",
   "execution_count": null,
   "outputs": [],
   "source": [
    "test_tetra =[]\n",
    "for i in range(len(pred)):\n",
    "    label = pred[i].argmax()\n",
    "    test_tetra.append(main_colors[label].tolist())\n",
    "test_tetra = np.array(test_tetra)\n",
    "test_tetra = np.reshape(test_tetra, (test.shape[0], 32, 32, 3))\n"
   ],
   "metadata": {
    "collapsed": false,
    "pycharm": {
     "name": "#%%\n"
    }
   }
  },
  {
   "cell_type": "code",
   "execution_count": null,
   "outputs": [],
   "source": [
    "fig = plt.figure(figsize = (10, 5))\n",
    "fig.subplots_adjust(hspace = 0, wspace = .1)\n",
    "for i in range(0, 10):\n",
    "    fig.add_subplot(2, 5, i+1, xticks = [], yticks = [])\n",
    "    plt.imshow(train[i])"
   ],
   "metadata": {
    "collapsed": false,
    "pycharm": {
     "name": "#%%\n"
    }
   }
  },
  {
   "cell_type": "code",
   "execution_count": null,
   "outputs": [],
   "source": [
    "fig_test = plt.figure(figsize = (5, 10))\n",
    "fig_test.subplots_adjust(hspace = 0.1, wspace = -.35)\n",
    "for i in range(0, 10):\n",
    "    fig_test.add_subplot(5, 2, i+1, xticks = [], yticks = [])\n",
    "    plt.imshow(test[i])"
   ],
   "metadata": {
    "collapsed": false,
    "pycharm": {
     "name": "#%%\n"
    }
   }
  },
  {
   "cell_type": "code",
   "execution_count": null,
   "outputs": [],
   "source": [
    "fig_tetra = plt.figure(figsize = (5, 10))\n",
    "fig_tetra.subplots_adjust(hspace = 0.1, wspace = -.35)\n",
    "for i in range(0, 10):\n",
    "    fig_tetra.add_subplot(5, 2, i+1, xticks = [], yticks = [])\n",
    "    plt.imshow(test_tetra[i].astype(np.uint8))"
   ],
   "metadata": {
    "collapsed": false,
    "pycharm": {
     "name": "#%%\n"
    }
   }
  },
  {
   "cell_type": "code",
   "execution_count": null,
   "outputs": [],
   "source": [
    "fig_gray = plt.figure(figsize = (5, 10))\n",
    "fig_gray.subplots_adjust(hspace = 0.1, wspace = -.35)\n",
    "for i in range(0, 10):\n",
    "    fig_gray.add_subplot(5, 2, i+1, xticks = [], yticks = [])\n",
    "    plt.imshow(rgb2gray(test)[i], cmap = 'gray')"
   ],
   "metadata": {
    "collapsed": false,
    "pycharm": {
     "name": "#%%\n"
    }
   }
  },
  {
   "cell_type": "code",
   "execution_count": null,
   "outputs": [],
   "source": [
    "fig_k = plt.figure(figsize = (5, 10))\n",
    "fig_k.subplots_adjust(hspace = 0.1, wspace = -.35)\n",
    "for i in range(0, 10):\n",
    "    fig_k.add_subplot(5, 2, i+1, xticks = [], yticks = [])\n",
    "    plt.imshow(k_colored[len(train) + i].astype(np.uint8))\n"
   ],
   "metadata": {
    "collapsed": false,
    "pycharm": {
     "name": "#%%\n"
    }
   }
  },
  {
   "cell_type": "markdown",
   "source": [],
   "metadata": {
    "collapsed": false
   }
  },
  {
   "cell_type": "code",
   "execution_count": null,
   "outputs": [],
   "source": [],
   "metadata": {
    "collapsed": false,
    "pycharm": {
     "name": "#%%\n"
    }
   }
  }
 ],
 "metadata": {
  "kernelspec": {
   "display_name": "Python 3",
   "language": "python",
   "name": "python3"
  },
  "language_info": {
   "codemirror_mode": {
    "name": "ipython",
    "version": 3
   },
   "file_extension": ".py",
   "mimetype": "text/x-python",
   "name": "python",
   "nbconvert_exporter": "python",
   "pygments_lexer": "ipython3",
   "version": "3.7.4"
  }
 },
 "nbformat": 4,
 "nbformat_minor": 2
}