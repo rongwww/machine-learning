{
 "cells": [
  {
   "cell_type": "code",
   "execution_count": null,
   "metadata": {
    "collapsed": true
   },
   "outputs": [],
   "source": [
    "import os\n",
    "import wget\n",
    "import pandas as pd\n",
    "import numpy as np\n",
    "import seaborn as sns\n",
    "import matplotlib.pyplot as plt\n",
    "from sklearn.experimental import enable_iterative_imputer  # unused, but needed\n",
    "from sklearn.impute import SimpleImputer\n",
    "from sklearn.ensemble import RandomForestClassifier\n",
    "import sklearn.metrics as metrics\n",
    "from sklearn.metrics import roc_curve, auc, roc_auc_score\n",
    "from imblearn.over_sampling import SMOTE\n"
   ]
  },
  {
   "cell_type": "code",
   "execution_count": null,
   "outputs": [],
   "source": [
    "#download data\n",
    "training_url = 'http://archive.ics.uci.edu/ml/machine-learning-databases/00421/aps_failure_training_set.csv'\n",
    "wget.download(training_url, 'aps_failure_training_set.csv')\n",
    "\n",
    "test_url = 'http://archive.ics.uci.edu/ml/machine-learning-databases/00421/aps_failure_test_set.csv'\n",
    "wget.download(test_url, 'aps_failure_test_set.csv')\n",
    "\n",
    "#save as data frame\n",
    "train_aps_failure = pd.read_csv('aps_failure_training_set.csv', skiprows = 20, header = 0)\n",
    "train_aps_failure = train_aps_failure.replace('na', np.nan)\n",
    "test_aps_failure = pd.read_csv('aps_failure_test_set.csv', skiprows = 20)\n",
    "test_aps_failure = test_aps_failure.replace('na', np.nan)"
   ],
   "metadata": {
    "collapsed": false,
    "pycharm": {
     "name": "#%%\n"
    }
   }
  },
  {
   "cell_type": "code",
   "execution_count": null,
   "outputs": [],
   "source": [
    "#data imputation function\n",
    "def impute_data(data, class_col):\n",
    "\n",
    "    imputer = SimpleImputer()\n",
    "    data_imputed = imputer.fit_transform(data.loc[:,data.columns.difference([class_col])])\n",
    "    imputed_df = pd.DataFrame(data.loc[:,class_col]).join(pd.DataFrame(data_imputed, columns = data.columns.difference([class_col])))\n",
    "\n",
    "    return imputed_df\n",
    "\n",
    "#imputing train, test data\n",
    "train_aps_failure_imputed = impute_data(train_aps_failure, 'class')\n",
    "test_aps_failure_imputed = impute_data(test_aps_failure, 'class')\n"
   ],
   "metadata": {
    "collapsed": false,
    "pycharm": {
     "name": "#%%\n"
    }
   }
  },
  {
   "cell_type": "code",
   "execution_count": null,
   "outputs": [],
   "source": [
    "#changing class pos = 1, neg = 0\n",
    "train_aps_failure_imputed.loc[train_aps_failure['class'] == 'neg' , 'class'] = 0\n",
    "train_aps_failure_imputed.loc[train_aps_failure['class'] == 'pos' , 'class'] = 1\n",
    "\n",
    "test_aps_failure_imputed.loc[test_aps_failure['class'] == 'neg' , 'class'] = 0\n",
    "test_aps_failure_imputed.loc[test_aps_failure['class'] == 'pos' , 'class'] = 1\n",
    "\n",
    "#save class / variables\n",
    "train_aps_class = train_aps_failure_imputed.loc[:,'class']\n",
    "train_aps_variables = train_aps_failure_imputed.loc[:, train_aps_failure_imputed.columns.difference(['class'])]\n",
    "\n",
    "test_aps_class = test_aps_failure_imputed.loc[:,'class']\n",
    "test_aps_variables = test_aps_failure_imputed.loc[:, test_aps_failure_imputed.columns.difference(['class'])]\n"
   ],
   "metadata": {
    "collapsed": false,
    "pycharm": {
     "name": "#%%\n"
    }
   }
  },
  {
   "cell_type": "code",
   "execution_count": null,
   "outputs": [],
   "source": [
    "#correlation matrix of features\n",
    "plt.figure(figsize=(12,12))\n",
    "plot_corr_mat = sns.heatmap(train_aps_failure_imputed.corr(),\n",
    "                                                    vmin=-1,\n",
    "                                                    cmap='PiYG',\n",
    "                                                    annot=False);"
   ],
   "metadata": {
    "collapsed": false,
    "pycharm": {
     "name": "#%%\n"
    }
   }
  },
  {
   "cell_type": "code",
   "execution_count": null,
   "outputs": [],
   "source": [
    "#calculate CV (= std/mean) of each feature\n",
    "train_aps_std = pd.DataFrame(train_aps_failure_imputed.std())\n",
    "train_aps_mean = pd.DataFrame(train_aps_failure_imputed.mean())\n",
    "train_aps_cv = train_aps_std / train_aps_mean\n",
    "train_aps_cv = train_aps_cv.sort_values(by = 0, ascending = False)\n",
    "\n",
    "#pick highest CV\n",
    "num_aps = int(np.floor(np.sqrt(len(train_aps_failure_imputed.columns) - 1 )))\n",
    "features_aps = train_aps_cv.index[:num_aps]\n",
    "cv_highest_aps = pd.DataFrame(train_aps_class).join(train_aps_failure_imputed.loc[ : , features_aps])\n"
   ],
   "metadata": {
    "collapsed": false,
    "pycharm": {
     "name": "#%%\n"
    }
   }
  },
  {
   "cell_type": "code",
   "execution_count": null,
   "outputs": [],
   "source": [
    "#scatterplot of highest CV\n",
    "plt.figure(figsize = (12, 12))\n",
    "plot_scatter_cv_aps = sns.pairplot(cv_highest_aps, hue = 'class', palette = 'husl')\n",
    "plt.savefig('plot_scatter_cv_aps')"
   ],
   "metadata": {
    "collapsed": false,
    "pycharm": {
     "name": "#%%\n"
    }
   }
  },
  {
   "cell_type": "code",
   "execution_count": null,
   "outputs": [],
   "source": [
    "#boxplot of highest CV\n",
    "\n",
    "def draw_boxplot(dataframe, name) :\n",
    "    num_plots = (len(dataframe.columns) - 1)\n",
    "    for i in range(1 , len(dataframe.columns)):\n",
    "        ax = fig.add_subplot(np.ceil(num_plots/3),3,i)\n",
    "        boxplot = sns.boxplot(data = dataframe, x = \"class\", y = dataframe.columns[i],\n",
    "                              hue = \"class\", palette = \"husl\", dodge = False)\n",
    "        plt.xlabel('')\n",
    "        plt.ylabel('')\n",
    "        boxplot.legend_.remove()\n",
    "        plt.title(dataframe.columns[(i - 1)], fontsize = 15)\n",
    "    handles, labels = ax.get_legend_handles_labels()\n",
    "    fig.legend(title = \"class\", handles = handles, labels = labels,\n",
    "               bbox_to_anchor = [.015, .5], loc = 'center left')\n",
    "    fig.savefig(name)\n",
    "\n",
    "fig = plt.figure(figsize = (15,15))\n",
    "fig.subplots_adjust(hspace = .4, wspace = .4)\n",
    "draw_boxplot(cv_highest_aps, 'plot_box_cv_aps')\n"
   ],
   "metadata": {
    "collapsed": false,
    "pycharm": {
     "name": "#%%\n"
    }
   }
  },
  {
   "cell_type": "code",
   "execution_count": null,
   "outputs": [],
   "source": [
    "#determining class imbalance\n",
    "num_neg = len(train_aps_failure_imputed[train_aps_class == 0])\n",
    "num_pos = len(train_aps_failure_imputed[train_aps_class == 1])\n",
    "\n",
    "#random forest without compensating for class imbalance\n",
    "rfc = RandomForestClassifier(oob_score = True)\n",
    "rfc.fit(train_aps_variables, train_aps_class)\n",
    "train_aps_predict = rfc.predict(train_aps_variables)\n"
   ],
   "metadata": {
    "collapsed": false,
    "pycharm": {
     "name": "#%%\n"
    }
   }
  },
  {
   "cell_type": "code",
   "execution_count": null,
   "outputs": [],
   "source": [
    "#Confusion matrix_train\n",
    "train_aps_confusion = metrics.confusion_matrix(train_aps_class, train_aps_predict)\n",
    "\n",
    "#ROC_train\n",
    "train_aps_fpr, train_aps_tpr, train_aps_thresholds = roc_curve(train_aps_class, train_aps_predict)\n",
    "\n",
    "#AUC_train\n",
    "train_aps_auc = auc(train_aps_fpr, train_aps_tpr)"
   ],
   "metadata": {
    "collapsed": false,
    "pycharm": {
     "name": "#%%\n"
    }
   }
  },
  {
   "cell_type": "code",
   "execution_count": null,
   "outputs": [],
   "source": [
    "#plot ROC-AUC curve_train\n",
    "train_aps_roc_auc = roc_auc_score(train_aps_class, train_aps_predict)\n",
    "plt.plot([0, 1], [0, 1],'y--')\n",
    "plt.plot(train_aps_fpr, train_aps_tpr, 'm', label = 'ROC curve (area = %0.3f)' % train_aps_roc_auc)\n",
    "plt.title('aps_failure_train ROC')\n",
    "plt.xlabel('False Positive Rate')\n",
    "plt.ylabel('True Positive Rate')\n",
    "plt.legend(loc = 'lower right')\n",
    "plt.savefig('train_aps_roc_auc.png')"
   ],
   "metadata": {
    "collapsed": false,
    "pycharm": {
     "name": "#%%\n"
    }
   }
  },
  {
   "cell_type": "code",
   "execution_count": null,
   "outputs": [],
   "source": [
    "#misclassification\n",
    "train_aps_misclass = 1 - rfc.score(train_aps_variables, train_aps_class)\n",
    "\n",
    "#predict test data\n",
    "test_aps_predict = rfc.predict(test_aps_variables)\n",
    "\n",
    "#confusion matrix_test\n",
    "test_aps_confusion = metrics.confusion_matrix(test_aps_class, test_aps_predict)\n",
    "\n",
    "#ROC_test\n",
    "test_aps_fpr, test_aps_tpr, test_aps_thresholds = roc_curve(test_aps_class, test_aps_predict)\n",
    "\n",
    "#AUC_test\n",
    "test_aps_auc = auc(test_aps_fpr, test_aps_tpr)"
   ],
   "metadata": {
    "collapsed": false,
    "pycharm": {
     "name": "#%%\n"
    }
   }
  },
  {
   "cell_type": "code",
   "execution_count": null,
   "outputs": [],
   "source": [
    "#plot ROC-AUC curve_test\n",
    "test_aps_roc_auc = roc_auc_score(test_aps_class, test_aps_predict)\n",
    "plt.plot([0, 1], [0, 1],'y--')\n",
    "plt.plot(test_aps_fpr, test_aps_tpr, 'g', label = 'ROC curve (area = %0.3f)' % test_aps_roc_auc)\n",
    "plt.title('aps_failure_test ROC')\n",
    "plt.xlabel('False Positive Rate')\n",
    "plt.ylabel('True Positive Rate')\n",
    "plt.legend(loc = 'lower right')\n",
    "plt.savefig('test_aps_roc_auc.png')"
   ],
   "metadata": {
    "collapsed": false,
    "pycharm": {
     "name": "#%%\n"
    }
   }
  },
  {
   "cell_type": "code",
   "execution_count": null,
   "outputs": [],
   "source": [
    "#misclassification_test\n",
    "test_aps_misclass = 1 - rfc.score(test_aps_variables, test_aps_class)\n",
    "\n",
    "#oob error estimate_test\n",
    "oob_score_imbalanced = rfc.oob_score_"
   ],
   "metadata": {
    "collapsed": false,
    "pycharm": {
     "name": "#%%\n"
    }
   }
  },
  {
   "cell_type": "code",
   "execution_count": null,
   "outputs": [],
   "source": [
    "# random forest after compensating for class imbalance\n",
    "rfc_balanced = RandomForestClassifier(oob_score = True, class_weight = 'balanced')\n",
    "rfc_balanced.fit(train_aps_variables, train_aps_class)\n",
    "train_aps_predict_balanced = rfc_balanced.predict(train_aps_variables)"
   ],
   "metadata": {
    "collapsed": false,
    "pycharm": {
     "name": "#%%\n"
    }
   }
  },
  {
   "cell_type": "code",
   "execution_count": null,
   "outputs": [],
   "source": [
    "#Confusion matrix_blanaced_train\n",
    "train_aps_confusion_balanced = metrics.confusion_matrix(train_aps_class, train_aps_predict_balanced)\n",
    "\n",
    "#ROC_balanced_train\n",
    "train_aps_fpr_balanced, train_aps_tpr_balanced, train_aps_thresholds_balanced = roc_curve(train_aps_class, train_aps_predict_balanced)\n",
    "\n",
    "#AUC_balanced_train\n",
    "train_aps_auc_balanced = auc(train_aps_fpr_balanced, train_aps_tpr_balanced)\n"
   ],
   "metadata": {
    "collapsed": false,
    "pycharm": {
     "name": "#%%\n"
    }
   }
  },
  {
   "cell_type": "code",
   "execution_count": null,
   "outputs": [],
   "source": [
    "#plot ROC-AUC curve_balanced_train\n",
    "train_aps_roc_auc_balanced = roc_auc_score(train_aps_class, train_aps_predict_balanced)\n",
    "plt.plot([0, 1], [0, 1],'y--')\n",
    "plt.plot(train_aps_fpr_balanced, train_aps_tpr_balanced, 'm', label = 'ROC curve (area = %0.3f)' % train_aps_roc_auc_balanced)\n",
    "plt.title('aps_failure_train_balanced ROC')\n",
    "plt.xlabel('False Positive Rate')\n",
    "plt.ylabel('True Positive Rate')\n",
    "plt.legend(loc = 'lower right')\n",
    "plt.savefig('train_aps_roc_auc_balanced.png')\n"
   ],
   "metadata": {
    "collapsed": false,
    "pycharm": {
     "name": "#%%\n"
    }
   }
  },
  {
   "cell_type": "code",
   "execution_count": null,
   "outputs": [],
   "source": [
    "#misclassification_balanced_train\n",
    "train_aps_misclass_balanced = 1 - rfc_balanced.score(train_aps_variables, train_aps_class)\n",
    "\n",
    "#predict test data_balanced\n",
    "test_aps_predict_balanced = rfc_balanced.predict(test_aps_variables)\n",
    "\n",
    "#confusion matrix_balanced_test\n",
    "test_aps_confusion_balanced = metrics.confusion_matrix(test_aps_class, test_aps_predict_balanced)\n",
    "\n",
    "#ROC_balanced_test\n",
    "test_aps_fpr_balanced, test_aps_tpr_balanced, test_aps_thresholds_balanced = roc_curve(test_aps_class, test_aps_predict_balanced)\n",
    "\n",
    "#AUC_balanced_test\n",
    "test_aps_auc_balanced = auc(test_aps_fpr_balanced, test_aps_tpr_balanced)"
   ],
   "metadata": {
    "collapsed": false,
    "pycharm": {
     "name": "#%%\n"
    }
   }
  },
  {
   "cell_type": "code",
   "execution_count": null,
   "outputs": [],
   "source": [
    "test_aps_roc_auc_balanced = roc_auc_score(test_aps_class, test_aps_predict_balanced)\n",
    "plt.plot([0, 1], [0, 1],'y--')\n",
    "plt.plot(test_aps_fpr_balanced, test_aps_tpr_balanced, 'g', label = 'ROC curve (area = %0.3f)' % test_aps_roc_auc_balanced)\n",
    "plt.title('aps_failure_test_balanced ROC')\n",
    "plt.xlabel('False Positive Rate')\n",
    "plt.ylabel('True Positive Rate')\n",
    "plt.legend(loc = 'lower right')\n",
    "plt.savefig('test_aps_roc_auc_balanced.png')"
   ],
   "metadata": {
    "collapsed": false,
    "pycharm": {
     "name": "#%%\n"
    }
   }
  },
  {
   "cell_type": "code",
   "execution_count": null,
   "outputs": [],
   "source": [
    "#misclassification_balanced_test\n",
    "test_aps_misclass_balanced = 1 - rfc_balanced.score(test_aps_variables, test_aps_class)\n",
    "\n",
    "#SMOTE\n",
    "smt = SMOTE()\n",
    "train_aps_smote_x, train_aps_smote_y = smt.fit_resample(train_aps_variables, train_aps_class)\n",
    "\n"
   ],
   "metadata": {
    "collapsed": false,
    "pycharm": {
     "name": "#%%\n"
    }
   }
  }
 ],
 "metadata": {
  "kernelspec": {
   "display_name": "Python 3",
   "language": "python",
   "name": "python3"
  },
  "language_info": {
   "codemirror_mode": {
    "name": "ipython",
    "version": 2
   },
   "file_extension": ".py",
   "mimetype": "text/x-python",
   "name": "python",
   "nbconvert_exporter": "python",
   "pygments_lexer": "ipython2",
   "version": "2.7.6"
  }
 },
 "nbformat": 4,
 "nbformat_minor": 0
}